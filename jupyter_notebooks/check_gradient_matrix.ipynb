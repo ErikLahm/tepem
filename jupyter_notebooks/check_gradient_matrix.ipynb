{
 "cells": [
  {
   "cell_type": "code",
   "execution_count": 1,
   "id": "607b7992",
   "metadata": {},
   "outputs": [],
   "source": [
    "import sys\n",
    "sys.path.append('/Users/erikweilandt/Library/Caches/pypoetry/virtualenvs/tepem-FeojsIC2-py3.11/lib/python3.11/site-packages')"
   ]
  },
  {
   "cell_type": "code",
   "execution_count": 2,
   "id": "8afac8ef",
   "metadata": {},
   "outputs": [],
   "source": [
    "import numpy as np"
   ]
  },
  {
   "cell_type": "code",
   "execution_count": 10,
   "id": "76b3419e",
   "metadata": {},
   "outputs": [
    {
     "data": {
      "text/plain": [
       "(69, 69)"
      ]
     },
     "execution_count": 10,
     "metadata": {},
     "output_type": "execute_result"
    }
   ],
   "source": [
    "s = np.loadtxt(\"/Users/erikweilandt/Documents/university/master_thesis/tepem/tepem/exports/full_matrix_q24_q12.txt\", delimiter=\",\")\n",
    "s.shape"
   ]
  },
  {
   "cell_type": "code",
   "execution_count": 16,
   "id": "2f95e0a8",
   "metadata": {},
   "outputs": [],
   "source": [
    "n = s[:54,:54]\n",
    "g = s[:54, 54:69]\n",
    "d = s[54:69, :54]"
   ]
  },
  {
   "cell_type": "code",
   "execution_count": 17,
   "id": "7866d29b",
   "metadata": {},
   "outputs": [
    {
     "data": {
      "text/plain": [
       "14"
      ]
     },
     "execution_count": 17,
     "metadata": {},
     "output_type": "execute_result"
    }
   ],
   "source": [
    "np.linalg.matrix_rank(g)"
   ]
  },
  {
   "cell_type": "code",
   "execution_count": 18,
   "id": "81f36650",
   "metadata": {},
   "outputs": [
    {
     "data": {
      "text/plain": [
       "array([[ 1. ],\n",
       "       [-0.5],\n",
       "       [ 1. ],\n",
       "       [-1. ],\n",
       "       [ 0.5],\n",
       "       [-1. ],\n",
       "       [ 1. ],\n",
       "       [-0.5],\n",
       "       [ 1. ],\n",
       "       [-1. ],\n",
       "       [ 0.5],\n",
       "       [-1. ],\n",
       "       [ 1. ],\n",
       "       [-0.5],\n",
       "       [ 1. ]])"
      ]
     },
     "execution_count": 18,
     "metadata": {},
     "output_type": "execute_result"
    }
   ],
   "source": [
    "U, S, Vh = np.linalg.svd(g)\n",
    "sing_value_id = 14\n",
    "sing_vec = Vh[sing_value_id,:].reshape((15,1))/Vh[sing_value_id,0]\n",
    "sing_vec"
   ]
  },
  {
   "cell_type": "code",
   "execution_count": 19,
   "id": "6459f638",
   "metadata": {},
   "outputs": [
    {
     "data": {
      "text/plain": [
       "array([[-8.04911693e-16],\n",
       "       [-1.11022302e-16],\n",
       "       [-8.32667268e-16],\n",
       "       [ 7.21130974e-16],\n",
       "       [-2.53141129e-16],\n",
       "       [ 8.09366291e-16],\n",
       "       [-4.78152611e-17],\n",
       "       [ 2.01319585e-16],\n",
       "       [ 5.86239447e-17],\n",
       "       [-5.81953324e-17],\n",
       "       [-3.09251938e-17],\n",
       "       [ 2.27755629e-16],\n",
       "       [-2.08452368e-19],\n",
       "       [ 1.39720197e-17],\n",
       "       [-5.62421623e-17],\n",
       "       [-3.74471830e-16],\n",
       "       [ 1.42804150e-16],\n",
       "       [-4.47287383e-16],\n",
       "       [-7.06062438e-17],\n",
       "       [ 1.80359842e-17],\n",
       "       [ 4.28703712e-17],\n",
       "       [ 5.94517576e-16],\n",
       "       [-1.78612269e-16],\n",
       "       [ 3.30325616e-16],\n",
       "       [-1.02373528e-16],\n",
       "       [ 1.91801307e-16],\n",
       "       [ 1.19465480e-16],\n",
       "       [ 6.00299988e-17],\n",
       "       [-6.06510726e-17],\n",
       "       [ 5.91626371e-17],\n",
       "       [-9.43689571e-16],\n",
       "       [-3.66219400e-17],\n",
       "       [ 8.88178420e-16],\n",
       "       [-1.58866404e-16],\n",
       "       [ 3.32456542e-16],\n",
       "       [-8.21048904e-17],\n",
       "       [-4.44089210e-16],\n",
       "       [-2.44403263e-16],\n",
       "       [ 1.22124533e-15],\n",
       "       [-1.64017034e-16],\n",
       "       [ 3.96609186e-16],\n",
       "       [-1.83532673e-16],\n",
       "       [ 6.66133815e-16],\n",
       "       [-3.03126865e-16],\n",
       "       [ 2.77555756e-16],\n",
       "       [-9.41622894e-17],\n",
       "       [ 3.60854608e-16],\n",
       "       [-6.77077564e-17],\n",
       "       [-4.46145178e-16],\n",
       "       [ 2.34380416e-16],\n",
       "       [-3.53626593e-16],\n",
       "       [ 1.40833847e-16],\n",
       "       [-3.45402719e-16],\n",
       "       [ 1.13078271e-16]])"
      ]
     },
     "execution_count": 19,
     "metadata": {},
     "output_type": "execute_result"
    }
   ],
   "source": [
    "np.dot(g, sing_vec)"
   ]
  }
 ],
 "metadata": {
  "kernelspec": {
   "display_name": "Python 3 (ipykernel)",
   "language": "python",
   "name": "python3"
  },
  "language_info": {
   "codemirror_mode": {
    "name": "ipython",
    "version": 3
   },
   "file_extension": ".py",
   "mimetype": "text/x-python",
   "name": "python",
   "nbconvert_exporter": "python",
   "pygments_lexer": "ipython3",
   "version": "3.11.4"
  }
 },
 "nbformat": 4,
 "nbformat_minor": 5
}
