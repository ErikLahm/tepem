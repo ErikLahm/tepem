{
 "cells": [
  {
   "cell_type": "code",
   "execution_count": 1,
   "id": "607b7992",
   "metadata": {},
   "outputs": [],
   "source": [
    "import sys\n",
    "sys.path.append('/Users/erikweilandt/Library/Caches/pypoetry/virtualenvs/tepem-FeojsIC2-py3.11/lib/python3.11/site-packages')"
   ]
  },
  {
   "cell_type": "code",
   "execution_count": 2,
   "id": "8afac8ef",
   "metadata": {},
   "outputs": [],
   "source": [
    "import numpy as np"
   ]
  },
  {
   "cell_type": "code",
   "execution_count": 3,
   "id": "76b3419e",
   "metadata": {},
   "outputs": [
    {
     "data": {
      "text/plain": [
       "(24, 24)"
      ]
     },
     "execution_count": 3,
     "metadata": {},
     "output_type": "execute_result"
    }
   ],
   "source": [
    "s = np.loadtxt(\"/Users/erikweilandt/Documents/university/master_thesis/tepem/tepem/exports/full_matrix_q24_q12_slabs1.txt\", delimiter=\",\")\n",
    "s.shape"
   ]
  },
  {
   "cell_type": "code",
   "execution_count": 4,
   "id": "ed3e75f9",
   "metadata": {},
   "outputs": [
    {
     "data": {
      "text/plain": [
       "(18, 6)"
      ]
     },
     "execution_count": 4,
     "metadata": {},
     "output_type": "execute_result"
    }
   ],
   "source": [
    "num_velo_dof = 2 * 9\n",
    "num_pressure_dof = s.shape[0] - num_velo_dof\n",
    "num_velo_dof, num_pressure_dof"
   ]
  },
  {
   "cell_type": "code",
   "execution_count": 5,
   "id": "2f95e0a8",
   "metadata": {},
   "outputs": [],
   "source": [
    "n = s[:num_velo_dof,:num_velo_dof]\n",
    "g = s[:num_velo_dof, num_velo_dof:]\n",
    "d = s[num_velo_dof:, :num_velo_dof]"
   ]
  },
  {
   "cell_type": "code",
   "execution_count": 6,
   "id": "7866d29b",
   "metadata": {},
   "outputs": [
    {
     "data": {
      "text/plain": [
       "6"
      ]
     },
     "execution_count": 6,
     "metadata": {},
     "output_type": "execute_result"
    }
   ],
   "source": [
    "np.linalg.matrix_rank(g)"
   ]
  },
  {
   "cell_type": "code",
   "execution_count": 7,
   "id": "f2206877",
   "metadata": {},
   "outputs": [
    {
     "data": {
      "text/plain": [
       "0.13282015219423204"
      ]
     },
     "execution_count": 7,
     "metadata": {},
     "output_type": "execute_result"
    }
   ],
   "source": [
    "g[0,0]"
   ]
  },
  {
   "cell_type": "code",
   "execution_count": 8,
   "id": "81f36650",
   "metadata": {},
   "outputs": [
    {
     "data": {
      "text/plain": [
       "array([[ 1.        ],\n",
       "       [-0.00506017],\n",
       "       [-0.08681622],\n",
       "       [-1.1673031 ],\n",
       "       [-0.05822883],\n",
       "       [-0.23436829]])"
      ]
     },
     "execution_count": 8,
     "metadata": {},
     "output_type": "execute_result"
    }
   ],
   "source": [
    "U, S, Vh = np.linalg.svd(g)\n",
    "sing_value_id = num_pressure_dof - 1\n",
    "sing_vec = Vh[sing_value_id,:].reshape((num_pressure_dof,1))/Vh[sing_value_id,0]\n",
    "sing_vec"
   ]
  },
  {
   "cell_type": "code",
   "execution_count": 9,
   "id": "6459f638",
   "metadata": {},
   "outputs": [
    {
     "data": {
      "text/plain": [
       "array([[ 0.08230035],\n",
       "       [-0.00981789],\n",
       "       [-0.0322319 ],\n",
       "       [-0.18994639],\n",
       "       [ 0.01185188],\n",
       "       [ 0.01176139],\n",
       "       [ 0.10764605],\n",
       "       [-0.00203399],\n",
       "       [ 0.0204705 ],\n",
       "       [-0.17948758],\n",
       "       [ 0.05826242],\n",
       "       [-0.05920546],\n",
       "       [ 0.07005365],\n",
       "       [-0.05865662],\n",
       "       [-0.0374393 ],\n",
       "       [ 0.14641672],\n",
       "       [-0.00986456],\n",
       "       [ 0.00494858]])"
      ]
     },
     "execution_count": 9,
     "metadata": {},
     "output_type": "execute_result"
    }
   ],
   "source": [
    "np.dot(g, sing_vec)"
   ]
  }
 ],
 "metadata": {
  "kernelspec": {
   "display_name": "Python 3 (ipykernel)",
   "language": "python",
   "name": "python3"
  },
  "language_info": {
   "codemirror_mode": {
    "name": "ipython",
    "version": 3
   },
   "file_extension": ".py",
   "mimetype": "text/x-python",
   "name": "python",
   "nbconvert_exporter": "python",
   "pygments_lexer": "ipython3",
   "version": "3.11.4"
  }
 },
 "nbformat": 4,
 "nbformat_minor": 5
}
