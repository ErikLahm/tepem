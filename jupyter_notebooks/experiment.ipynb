{
 "cells": [
  {
   "cell_type": "code",
   "execution_count": 1,
   "id": "77e3e592",
   "metadata": {},
   "outputs": [],
   "source": [
    "import sys\n",
    "sys.path.append('/Users/erikweilandt/Library/Caches/pypoetry/virtualenvs/tepem-FeojsIC2-py3.11/lib/python3.11/site-packages')"
   ]
  },
  {
   "cell_type": "code",
   "execution_count": 2,
   "id": "a7fbb285",
   "metadata": {},
   "outputs": [],
   "source": [
    "import numpy as np"
   ]
  },
  {
   "cell_type": "code",
   "execution_count": 43,
   "id": "0c99bc78",
   "metadata": {},
   "outputs": [],
   "source": [
    "num_slice = 4"
   ]
  },
  {
   "cell_type": "code",
   "execution_count": 44,
   "id": "2760fe83",
   "metadata": {},
   "outputs": [
    {
     "data": {
      "text/plain": [
       "array([ 0.  ,  1.25,  2.5 ,  3.75,  5.  ,  6.25,  7.5 ,  8.75, 10.  ])"
      ]
     },
     "execution_count": 44,
     "metadata": {},
     "output_type": "execute_result"
    }
   ],
   "source": [
    "x = np.linspace(0, 10, 2* num_slice + 1)\n",
    "x"
   ]
  },
  {
   "cell_type": "code",
   "execution_count": 45,
   "id": "32769fdc",
   "metadata": {},
   "outputs": [
    {
     "data": {
      "text/plain": [
       "array([ 0. ,  2.5,  5. ,  7.5, 10. , 12.5, 15. , 17.5, 20. ])"
      ]
     },
     "execution_count": 45,
     "metadata": {},
     "output_type": "execute_result"
    }
   ],
   "source": [
    "y = np.array([foo*2 for foo in x ])\n",
    "y"
   ]
  },
  {
   "cell_type": "code",
   "execution_count": 46,
   "id": "8c8c3fee",
   "metadata": {},
   "outputs": [
    {
     "data": {
      "text/plain": [
       "array([[ 0.  ,  0.  ],\n",
       "       [ 1.25,  2.5 ],\n",
       "       [ 2.5 ,  5.  ],\n",
       "       [ 3.75,  7.5 ],\n",
       "       [ 5.  , 10.  ],\n",
       "       [ 6.25, 12.5 ],\n",
       "       [ 7.5 , 15.  ],\n",
       "       [ 8.75, 17.5 ],\n",
       "       [10.  , 20.  ]])"
      ]
     },
     "execution_count": 46,
     "metadata": {},
     "output_type": "execute_result"
    }
   ],
   "source": [
    "total = np.vstack((x,y)).T\n",
    "total"
   ]
  },
  {
   "cell_type": "code",
   "execution_count": 52,
   "id": "93446d2b",
   "metadata": {},
   "outputs": [
    {
     "data": {
      "text/plain": [
       "array([0, 1, 2, 3, 4, 5, 6, 7, 8])"
      ]
     },
     "execution_count": 52,
     "metadata": {},
     "output_type": "execute_result"
    }
   ],
   "source": [
    "ltg = np.arange(0, 2*num_slice+1)\n",
    "ltg"
   ]
  },
  {
   "cell_type": "code",
   "execution_count": 60,
   "id": "aefa99e8",
   "metadata": {},
   "outputs": [
    {
     "data": {
      "text/plain": [
       "array([ 9, 10, 11, 12, 13, 14, 15, 16, 17])"
      ]
     },
     "execution_count": 60,
     "metadata": {},
     "output_type": "execute_result"
    }
   ],
   "source": [
    "ltg2 = np.arange(2*num_slice+1, 4*num_slice+2)\n",
    "ltg2"
   ]
  },
  {
   "cell_type": "code",
   "execution_count": 58,
   "id": "3642312c",
   "metadata": {},
   "outputs": [
    {
     "data": {
      "text/plain": [
       "array([[0, 1, 2],\n",
       "       [2, 3, 4],\n",
       "       [4, 5, 6],\n",
       "       [6, 7, 8]])"
      ]
     },
     "execution_count": 58,
     "metadata": {},
     "output_type": "execute_result"
    }
   ],
   "source": [
    "mod = np.ones(2*num_slice+1, dtype= int)\n",
    "for i, num in enumerate(mod, 1):\n",
    "    if i%2==0:\n",
    "        mod[i] +=1\n",
    "    mod[-1] = 1\n",
    "ltg_edit = np.repeat(ltg, mod).reshape((num_slice, 3))\n",
    "ltg_edit"
   ]
  },
  {
   "cell_type": "code",
   "execution_count": 62,
   "id": "092dff61",
   "metadata": {},
   "outputs": [
    {
     "data": {
      "text/plain": [
       "array([[ 9, 10, 11],\n",
       "       [11, 12, 13],\n",
       "       [13, 14, 15],\n",
       "       [15, 16, 17]])"
      ]
     },
     "execution_count": 62,
     "metadata": {},
     "output_type": "execute_result"
    }
   ],
   "source": [
    "ltg_edit2 = np.repeat(ltg2, mod).reshape((num_slice, 3))\n",
    "ltg_edit2"
   ]
  },
  {
   "cell_type": "code",
   "execution_count": 63,
   "id": "631a3afc",
   "metadata": {},
   "outputs": [
    {
     "name": "stdout",
     "output_type": "stream",
     "text": [
      "[0 1 2]\n",
      "[2 3 4]\n",
      "[4 5 6]\n",
      "[6 7 8]\n"
     ]
    }
   ],
   "source": [
    "for slab in ltg_edit:\n",
    "    print(slab)"
   ]
  }
 ],
 "metadata": {
  "kernelspec": {
   "display_name": "Python 3 (ipykernel)",
   "language": "python",
   "name": "python3"
  },
  "language_info": {
   "codemirror_mode": {
    "name": "ipython",
    "version": 3
   },
   "file_extension": ".py",
   "mimetype": "text/x-python",
   "name": "python",
   "nbconvert_exporter": "python",
   "pygments_lexer": "ipython3",
   "version": "3.11.4"
  }
 },
 "nbformat": 4,
 "nbformat_minor": 5
}
