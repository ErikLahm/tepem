{
 "cells": [
  {
   "cell_type": "code",
   "execution_count": 2,
   "id": "77e3e592",
   "metadata": {},
   "outputs": [],
   "source": [
    "import sys\n",
    "sys.path.append('/Users/erikweilandt/Library/Caches/pypoetry/virtualenvs/tepem-FeojsIC2-py3.11/lib/python3.11/site-packages')"
   ]
  },
  {
   "cell_type": "code",
   "execution_count": 3,
   "id": "a7fbb285",
   "metadata": {},
   "outputs": [],
   "source": [
    "import numpy as np"
   ]
  },
  {
   "cell_type": "code",
   "execution_count": 4,
   "id": "0c99bc78",
   "metadata": {},
   "outputs": [],
   "source": [
    "num_slice = 4"
   ]
  },
  {
   "cell_type": "code",
   "execution_count": 5,
   "id": "2760fe83",
   "metadata": {},
   "outputs": [
    {
     "data": {
      "text/plain": [
       "array([ 0.  ,  1.25,  2.5 ,  3.75,  5.  ,  6.25,  7.5 ,  8.75, 10.  ])"
      ]
     },
     "execution_count": 5,
     "metadata": {},
     "output_type": "execute_result"
    }
   ],
   "source": [
    "x = np.linspace(0, 10, 2* num_slice + 1)\n",
    "x"
   ]
  },
  {
   "cell_type": "code",
   "execution_count": 6,
   "id": "32769fdc",
   "metadata": {},
   "outputs": [
    {
     "data": {
      "text/plain": [
       "array([ 0. ,  2.5,  5. ,  7.5, 10. , 12.5, 15. , 17.5, 20. ])"
      ]
     },
     "execution_count": 6,
     "metadata": {},
     "output_type": "execute_result"
    }
   ],
   "source": [
    "y = np.array([foo*2 for foo in x ])\n",
    "y"
   ]
  },
  {
   "cell_type": "code",
   "execution_count": 7,
   "id": "8c8c3fee",
   "metadata": {},
   "outputs": [
    {
     "data": {
      "text/plain": [
       "array([[ 0.  ,  0.  ],\n",
       "       [ 1.25,  2.5 ],\n",
       "       [ 2.5 ,  5.  ],\n",
       "       [ 3.75,  7.5 ],\n",
       "       [ 5.  , 10.  ],\n",
       "       [ 6.25, 12.5 ],\n",
       "       [ 7.5 , 15.  ],\n",
       "       [ 8.75, 17.5 ],\n",
       "       [10.  , 20.  ]])"
      ]
     },
     "execution_count": 7,
     "metadata": {},
     "output_type": "execute_result"
    }
   ],
   "source": [
    "total = np.vstack((x,y)).T\n",
    "total"
   ]
  },
  {
   "cell_type": "code",
   "execution_count": 8,
   "id": "93446d2b",
   "metadata": {},
   "outputs": [
    {
     "data": {
      "text/plain": [
       "array([0, 1, 2, 3, 4, 5, 6, 7, 8])"
      ]
     },
     "execution_count": 8,
     "metadata": {},
     "output_type": "execute_result"
    }
   ],
   "source": [
    "ltg = np.arange(0, 2*num_slice+1)\n",
    "ltg"
   ]
  },
  {
   "cell_type": "code",
   "execution_count": 9,
   "id": "aefa99e8",
   "metadata": {},
   "outputs": [
    {
     "data": {
      "text/plain": [
       "array([ 9, 10, 11, 12, 13, 14, 15, 16, 17])"
      ]
     },
     "execution_count": 9,
     "metadata": {},
     "output_type": "execute_result"
    }
   ],
   "source": [
    "ltg2 = np.arange(2*num_slice+1, 4*num_slice+2)\n",
    "ltg2"
   ]
  },
  {
   "cell_type": "code",
   "execution_count": 10,
   "id": "3642312c",
   "metadata": {},
   "outputs": [
    {
     "data": {
      "text/plain": [
       "(array([0, 1, 2, 2, 3, 4, 4, 5, 6, 6, 7, 8]),\n",
       " array([1, 1, 2, 1, 2, 1, 2, 1, 1]))"
      ]
     },
     "execution_count": 10,
     "metadata": {},
     "output_type": "execute_result"
    }
   ],
   "source": [
    "mod = np.ones(2*num_slice+1, dtype= int)\n",
    "for i, num in enumerate(mod, 1):\n",
    "    if i%2==0:\n",
    "        mod[i] +=1\n",
    "    mod[-1] = 1\n",
    "ltg_edit = np.repeat(ltg, mod)#.reshape((num_slice, 3))\n",
    "ltg_edit, mod"
   ]
  },
  {
   "cell_type": "code",
   "execution_count": 11,
   "id": "092dff61",
   "metadata": {},
   "outputs": [
    {
     "data": {
      "text/plain": [
       "array([[ 9, 10, 11],\n",
       "       [11, 12, 13],\n",
       "       [13, 14, 15],\n",
       "       [15, 16, 17]])"
      ]
     },
     "execution_count": 11,
     "metadata": {},
     "output_type": "execute_result"
    }
   ],
   "source": [
    "ltg_edit2 = np.repeat(ltg2, mod).reshape((num_slice, 3))\n",
    "ltg_edit2"
   ]
  },
  {
   "cell_type": "code",
   "execution_count": 12,
   "id": "631a3afc",
   "metadata": {},
   "outputs": [
    {
     "name": "stdout",
     "output_type": "stream",
     "text": [
      "0\n",
      "1\n",
      "2\n",
      "2\n",
      "3\n",
      "4\n",
      "4\n",
      "5\n",
      "6\n",
      "6\n",
      "7\n",
      "8\n"
     ]
    }
   ],
   "source": [
    "for slab in ltg_edit:\n",
    "    print(slab)"
   ]
  },
  {
   "cell_type": "markdown",
   "id": "a0d05fac",
   "metadata": {},
   "source": [
    "# LTG Map"
   ]
  },
  {
   "cell_type": "code",
   "execution_count": 13,
   "id": "2e6a9c6e",
   "metadata": {},
   "outputs": [
    {
     "data": {
      "text/plain": [
       "array([[ 0,  1,  2,  3,  4,  5,  6,  7,  8],\n",
       "       [ 6,  7,  8,  9, 10, 11, 12, 13, 14],\n",
       "       [12, 13, 14, 15, 16, 17, 18, 19, 20]])"
      ]
     },
     "execution_count": 13,
     "metadata": {},
     "output_type": "execute_result"
    }
   ],
   "source": [
    "def generate_ltg(\n",
    "    num_slabs: int, fe_order, velocity_ltg: bool = False\n",
    ") :\n",
    "    num_dof_rhs = fe_order[1]\n",
    "    if velocity_ltg:\n",
    "        num_dof_rhs = num_dof_rhs - 2\n",
    "    num_loc_dof = (fe_order[0] + 1) * (num_dof_rhs + 1)\n",
    "    ltg = np.arange(num_loc_dof * num_slabs).reshape((num_slabs, num_loc_dof))\n",
    "    for i, _ in enumerate(ltg):\n",
    "        ltg[i] = ltg[i] - (num_dof_rhs+1) * i\n",
    "    return ltg\n",
    "test = generate_ltg(3, (2,2))#, velocity_ltg=True)\n",
    "test"
   ]
  },
  {
   "cell_type": "code",
   "execution_count": 14,
   "id": "0866b626",
   "metadata": {},
   "outputs": [
    {
     "data": {
      "text/plain": [
       "array([5])"
      ]
     },
     "execution_count": 14,
     "metadata": {},
     "output_type": "execute_result"
    }
   ],
   "source": [
    "lt = [1,2,3,4,5]\n",
    "lt_a = np.array(lt).T\n",
    "lt_a[4:]"
   ]
  },
  {
   "cell_type": "code",
   "execution_count": 15,
   "id": "d9749201",
   "metadata": {},
   "outputs": [],
   "source": [
    "NU = 100\n",
    "PRESSURE_GRAD = -1\n",
    "C_CONST = 1 / 2 * 1 / NU * (-PRESSURE_GRAD)\n",
    "RADIUS = 1\n",
    "LENGTH = 10\n",
    "\n",
    "\n",
    "def g_1(x_1: float, x_2: float) -> float:\n",
    "    if x_1 < 1e-14:\n",
    "        return C_CONST * (RADIUS - x_2) * (x_2 + RADIUS)\n",
    "    else:\n",
    "        return 0"
   ]
  },
  {
   "cell_type": "markdown",
   "id": "6e19dc84",
   "metadata": {},
   "source": [
    "# chebychev points"
   ]
  },
  {
   "cell_type": "code",
   "execution_count": 16,
   "id": "994b32ab",
   "metadata": {},
   "outputs": [
    {
     "data": {
      "text/plain": [
       "array([-1.00000000e+00, -7.07106781e-01, -6.12323400e-17,  7.07106781e-01,\n",
       "        1.00000000e+00])"
      ]
     },
     "execution_count": 16,
     "metadata": {},
     "output_type": "execute_result"
    }
   ],
   "source": [
    "def get_chebby_points(start, end, num):\n",
    "    ref_points = [-np.cos(np.pi * i / num) for i in range(num+1)]\n",
    "    interval_points = [map_min1plus1_to_ab(x, start, end) for x in ref_points]\n",
    "    return np.array(interval_points)\n",
    "\n",
    "def map_min1plus1_to_ab(x,a, b):\n",
    "    return (b-a)/2 * x + (a+b)/2\n",
    "\n",
    "get_chebby_points(-1,1,4)"
   ]
  },
  {
   "cell_type": "markdown",
   "id": "d15cc10e",
   "metadata": {},
   "source": [
    "# high resolution plot"
   ]
  },
  {
   "cell_type": "code",
   "execution_count": 17,
   "id": "77f77779",
   "metadata": {},
   "outputs": [
    {
     "data": {
      "text/plain": [
       "array([[0. , 0.5, 1. ],\n",
       "       [0. , 0.5, 1. ]])"
      ]
     },
     "execution_count": 17,
     "metadata": {},
     "output_type": "execute_result"
    }
   ],
   "source": [
    "nx, ny = (3, 2)\n",
    "x = np.linspace(0, 1, nx)\n",
    "y = np.linspace(0, 1, ny)\n",
    "xv, yv = np.meshgrid(x, y)\n",
    "xv.flatten(), yv.flatten()\n",
    "xv\n",
    "\n"
   ]
  },
  {
   "cell_type": "markdown",
   "id": "af3c86ba",
   "metadata": {},
   "source": []
  },
  {
   "cell_type": "code",
   "execution_count": 18,
   "id": "b647f3ed",
   "metadata": {},
   "outputs": [
    {
     "data": {
      "text/plain": [
       "array([1, 2, 3, 4, 5, 6])"
      ]
     },
     "execution_count": 18,
     "metadata": {},
     "output_type": "execute_result"
    }
   ],
   "source": [
    "test = [1,2,3,4,5,6]\n",
    "test = np.array(test)\n",
    "test.reshape((3,2))\n",
    "test"
   ]
  },
  {
   "cell_type": "markdown",
   "id": "979c0961",
   "metadata": {},
   "source": [
    "# Parameterising Curve"
   ]
  },
  {
   "cell_type": "code",
   "execution_count": 19,
   "metadata": {},
   "outputs": [
    {
     "data": {
      "image/png": "[encoded data removed]",
      "text/plain": [
       "<Figure size 640x480 with 1 Axes>"
      ]
     },
     "metadata": {},
     "output_type": "display_data"
    }
   ],
   "source": [
    "import numpy as np\n",
    "import matplotlib.pyplot as plt\n",
    "\n",
    "# Define the parameter range from 0 to 1\n",
    "t = np.linspace(-0.1, 0.6, 1000)\n",
    "\n",
    "# Define the parameters a and b for your curve\n",
    "a = 0 # Adjust as needed\n",
    "b = 0.5  # Adjust as needed\n",
    "\n",
    "# Define the x and y coordinates based on the parameterization\n",
    "x = np.piecewise(t, [t < a, (t >= a) & (t <= b), t > b], [lambda t: t, lambda t: 2*np.sin(np.pi *t), 2])\n",
    "y = np.piecewise(t, [t < a, (t >= a) & (t <= b), t > b], [lambda t: 0, lambda t: 2*np.cos(np.pi *t)-2, lambda t: -1-(t-2)])\n",
    "\n",
    "# Plot the curve\n",
    "plt.plot(x, y)\n",
    "plt.xlabel(\"x\")\n",
    "plt.ylabel(\"y\")\n",
    "plt.title(\"Parameterized Curve\")\n",
    "plt.grid(True)\n",
    "plt.show()\n"
   ]
  },
  {
   "cell_type": "code",
   "execution_count": 25,
   "metadata": {},
   "outputs": [
    {
     "data": {
      "image/png": "[encoded data removed]",
      "text/plain": [
       "<Figure size 640x480 with 1 Axes>"
      ]
     },
     "metadata": {},
     "output_type": "display_data"
    }
   ],
   "source": [
    "import matplotlib.pyplot as plt\n",
    "\n",
    "# splitting_points = [1]\n",
    "\n",
    "piecewise_y = [lambda s: s**2, lambda s: s]\n",
    "piecewise_x = [lambda s: s, lambda s:s]\n",
    "deriv_y = [lambda s: 2*s, lambda s: 1]\n",
    "deriv_x = [lambda s: 1, lambda s: 1]\n",
    "\n",
    "radius = 0.1\n",
    "\n",
    "def r_of_s(s):\n",
    "    if s<1:\n",
    "        return piecewise_x[0](s), piecewise_y[0](s)\n",
    "    if s>=1:\n",
    "        return piecewise_x[1](s), piecewise_y[1](s)\n",
    "    \n",
    "def normal(s):\n",
    "    if s<1:\n",
    "        x,y = -deriv_y[0](s), deriv_x[0](s)\n",
    "        norm = np.sqrt(deriv_x[0](s)**2 + deriv_y[0](s)**2)\n",
    "        return x/norm, y/norm\n",
    "    if s>=1:\n",
    "        x,y = -deriv_y[1](s), deriv_x[1](s)\n",
    "        norm = np.sqrt(deriv_x[1](s)**2 + deriv_y[1](s)**2)\n",
    "        return x/norm, y/norm\n",
    "\n",
    "def upper_bdn(s):\n",
    "    x =r_of_s(s)[0] + radius * normal(s)[0]\n",
    "    y = r_of_s(s)[1] + radius * normal(s)[1]\n",
    "    return x,y\n",
    "\n",
    "\n",
    "def lower_bdn(s):\n",
    "    x =r_of_s(s)[0] - radius * normal(s)[0]\n",
    "    y = r_of_s(s)[1] - radius * normal(s)[1]\n",
    "    return x,y\n",
    "\n",
    "num_slabs = 10\n",
    "len_dom = 2\n",
    "\n",
    "dx = np.linspace(0,len_dom, 2*num_slabs+1)\n",
    "x_coords_low = np.array([lower_bdn(val)[0] for val in dx])\n",
    "y_coords_low = np.array([lower_bdn(val)[1] for val in dx])\n",
    "x_coords_up = np.array([upper_bdn(val)[0] for val in dx])\n",
    "y_coords_up = np.array([upper_bdn(val)[1] for val in dx])\n",
    "    \n",
    "s = np.linspace(0,2, 101)\n",
    "fig, ax = plt.subplots()\n",
    "ax.plot([r_of_s(val)[0] for val in s], [r_of_s(val)[1] for val in s])\n",
    "ax.plot([upper_bdn(val)[0] for val in s], [upper_bdn(val)[1] for val in s])\n",
    "ax.plot([lower_bdn(val)[0] for val in s], [lower_bdn(val)[1] for val in s])\n",
    "\n",
    "ax.plot([upper_bdn(1.1)[0], lower_bdn(1.1)[0]], [upper_bdn(1.1)[1], lower_bdn(1.1)[1]])\n",
    "ax.quiver(r_of_s(1.1)[0],r_of_s(1.1)[1], normal(1.1)[0], normal(1.1)[1], radius)\n",
    "ax.scatter(x_coords_low, y_coords_low)\n",
    "ax.scatter(x_coords_up, y_coords_up)\n",
    "ax.set_aspect('equal', adjustable='box')\n",
    "ax.grid(True)\n",
    "plt.show()"
   ]
  },
  {
   "cell_type": "code",
   "execution_count": 21,
   "metadata": {},
   "outputs": [
    {
     "data": {
      "text/plain": [
       "array([[1, 2],\n",
       "       [3, 4]])"
      ]
     },
     "execution_count": 21,
     "metadata": {},
     "output_type": "execute_result"
    }
   ],
   "source": [
    "test_list = [(1,2), (3,4)]\n",
    "test_a = np.array(test_list)\n",
    "test_a"
   ]
  },
  {
   "cell_type": "code",
   "execution_count": 53,
   "metadata": {},
   "outputs": [
    {
     "data": {
      "image/png": "[encoded data removed]",
      "text/plain": [
       "<Figure size 640x480 with 1 Axes>"
      ]
     },
     "metadata": {},
     "output_type": "display_data"
    }
   ],
   "source": [
    "from typing import Tuple\n",
    "\n",
    "\n",
    "def sudden_linear(\n",
    "    s: float,\n",
    "    m: float = 0,\n",
    "    n: float = 0.0125,\n",
    "    start: float = 0.02,\n",
    "    end: float = 0.09,\n",
    "    change_layer: float = 0.01,\n",
    "    gradient: float = 5,\n",
    ") -> float:\n",
    "    if s <= start or s > end:\n",
    "        return m * s + n\n",
    "    n_incl = 0.0125 - gradient * start\n",
    "    if s > start and s <= start + change_layer:\n",
    "        return gradient * s + n_incl\n",
    "    upper_point = gradient * (start + change_layer) + n_incl\n",
    "    n_decl = 0.0125 + gradient * end\n",
    "    if s > start + change_layer and s <= end - change_layer:\n",
    "        return m * s + upper_point\n",
    "    else:\n",
    "        return -gradient * s + n_decl\n",
    "\n",
    "s = np.linspace(0.01,0.11, 101)\n",
    "fig, ax = plt.subplots()\n",
    "ax.plot(s, [sudden_linear(val) for val in s])\n",
    "\n",
    "plt.show()"
   ]
  },
  {
   "cell_type": "code",
   "execution_count": null,
   "metadata": {},
   "outputs": [],
   "source": []
  }
 ],
 "metadata": {
  "kernelspec": {
   "display_name": "Python 3 (ipykernel)",
   "language": "python",
   "name": "python3"
  },
  "language_info": {
   "codemirror_mode": {
    "name": "ipython",
    "version": 3
   },
   "file_extension": ".py",
   "mimetype": "text/x-python",
   "name": "python",
   "nbconvert_exporter": "python",
   "pygments_lexer": "ipython3",
   "version": "3.11.4"
  }
 },
 "nbformat": 4,
 "nbformat_minor": 5
}
