{
 "cells": [
  {
   "cell_type": "code",
   "execution_count": 1,
   "id": "c4ea3845",
   "metadata": {},
   "outputs": [],
   "source": [
    "import sys\n",
    "sys.path.append('/Users/erikweilandt/Library/Caches/pypoetry/virtualenvs/tepem-FeojsIC2-py3.11/lib/python3.11/site-packages')"
   ]
  },
  {
   "cell_type": "code",
   "execution_count": 2,
   "id": "7cb40de0",
   "metadata": {},
   "outputs": [],
   "source": [
    "from sympy import symbols, diff, factor, simplify, collect"
   ]
  },
  {
   "cell_type": "code",
   "execution_count": 3,
   "id": "16787fa6",
   "metadata": {},
   "outputs": [],
   "source": [
    "x, y, v0, v1, v2, v3, v4, v5 = symbols(\"x y v0 v1 v2 v3 v4 v5\")"
   ]
  },
  {
   "cell_type": "markdown",
   "id": "784c8bc7",
   "metadata": {},
   "source": [
    "### $\\mathbb{P}_1$ shape functions 1D"
   ]
  },
  {
   "cell_type": "code",
   "execution_count": 4,
   "id": "aaeac094",
   "metadata": {},
   "outputs": [],
   "source": [
    "phi_1 = 1-y\n",
    "phi_2 = y"
   ]
  },
  {
   "cell_type": "markdown",
   "id": "c86c294b",
   "metadata": {},
   "source": [
    "### $\\mathbb{P}_2$ shape functions 1D"
   ]
  },
  {
   "cell_type": "code",
   "execution_count": 5,
   "id": "6cd8043c",
   "metadata": {},
   "outputs": [],
   "source": [
    "psi_1 = (2*x-1)*(x-1)\n",
    "psi_2 = -4*x*(x-1)\n",
    "psi_3 = x*(2*x-1)"
   ]
  },
  {
   "cell_type": "code",
   "execution_count": 6,
   "id": "9b1cd79a",
   "metadata": {},
   "outputs": [
    {
     "data": {
      "text/latex": [
       "$\\displaystyle v_{0} \\cdot \\left(1 - y\\right) \\left(x - 1\\right) \\left(2 x - 1\\right) - 4 v_{1} x \\left(1 - y\\right) \\left(x - 1\\right) + v_{2} x \\left(1 - y\\right) \\left(2 x - 1\\right) + v_{3} y \\left(x - 1\\right) \\left(2 x - 1\\right) - 4 v_{4} x y \\left(x - 1\\right) + v_{5} x y \\left(2 x - 1\\right)$"
      ],
      "text/plain": [
       "v0*(1 - y)*(x - 1)*(2*x - 1) - 4*v1*x*(1 - y)*(x - 1) + v2*x*(1 - y)*(2*x - 1) + v3*y*(x - 1)*(2*x - 1) - 4*v4*x*y*(x - 1) + v5*x*y*(2*x - 1)"
      ]
     },
     "execution_count": 6,
     "metadata": {},
     "output_type": "execute_result"
    }
   ],
   "source": [
    "mapping = v0 * phi_1 * psi_1 + v1 * phi_1 * psi_2 + v2 * phi_1 * psi_3 + v3 * phi_2 * psi_1 + v4 * phi_2 * psi_2 + v5 * phi_2 * psi_3\n",
    "mapping"
   ]
  },
  {
   "cell_type": "code",
   "execution_count": 7,
   "id": "87085b00",
   "metadata": {},
   "outputs": [
    {
     "data": {
      "text/latex": [
       "$\\displaystyle 1.0 v_{4}$"
      ],
      "text/plain": [
       "1.0*v4"
      ]
     },
     "execution_count": 7,
     "metadata": {},
     "output_type": "execute_result"
    }
   ],
   "source": [
    "mapping.subs([(x,0.5), (y,1)])"
   ]
  },
  {
   "cell_type": "code",
   "execution_count": 10,
   "id": "3f79c956",
   "metadata": {},
   "outputs": [
    {
     "name": "stdout",
     "output_type": "stream",
     "text": [
      "v0*(1 - y)*(x - 1)*(2*x - 1) - 4*v1*x*(1 - y)*(x - 1) + v2*x*(1 - y)*(2*x - 1) + v3*y*(x - 1)*(2*x - 1) - 4*v4*x*y*(x - 1) + v5*x*y*(2*x - 1)\n"
     ]
    }
   ],
   "source": [
    "print(mapping)"
   ]
  },
  {
   "cell_type": "code",
   "execution_count": 11,
   "id": "fa166cce",
   "metadata": {},
   "outputs": [
    {
     "name": "stdout",
     "output_type": "stream",
     "text": [
      "2*v0*(1 - y)*(x - 1) + v0*(1 - y)*(2*x - 1) - 4*v1*x*(1 - y) - 4*v1*(1 - y)*(x - 1) + 2*v2*x*(1 - y) + v2*(1 - y)*(2*x - 1) + 2*v3*y*(x - 1) + v3*y*(2*x - 1) - 4*v4*x*y - 4*v4*y*(x - 1) + 2*v5*x*y + v5*y*(2*x - 1)\n"
     ]
    }
   ],
   "source": [
    "df_dx = diff(mapping, x)\n",
    "print(df_dx)"
   ]
  },
  {
   "cell_type": "code",
   "execution_count": 12,
   "id": "55e10cf7",
   "metadata": {
    "scrolled": true
   },
   "outputs": [
    {
     "name": "stdout",
     "output_type": "stream",
     "text": [
      "-v0*(x - 1)*(2*x - 1) + 4*v1*x*(x - 1) - v2*x*(2*x - 1) + v3*(x - 1)*(2*x - 1) - 4*v4*x*(x - 1) + v5*x*(2*x - 1)\n"
     ]
    }
   ],
   "source": [
    "df_dy = diff(mapping, y)\n",
    "print(df_dy)"
   ]
  },
  {
   "cell_type": "markdown",
   "id": "2146397b",
   "metadata": {},
   "source": [
    "## Mapping Quadrature Rule from (-1,1) to (0,1)"
   ]
  },
  {
   "cell_type": "markdown",
   "id": "666df926",
   "metadata": {},
   "source": [
    "https://mathsfromnothing.au/square-quadrature-rules/?i=1"
   ]
  },
  {
   "cell_type": "code",
   "execution_count": 5,
   "id": "dc4f7fd2",
   "metadata": {},
   "outputs": [
    {
     "data": {
      "text/plain": [
       "[(0.01891292408754552, -0.02287466496281691),\n",
       " (0.6803715000816603, -0.9566699802943653),\n",
       " (0.7933237708616371, -0.1406230286668363),\n",
       " (0.5254933672691432, 0.5170444007222179),\n",
       " (-0.1297343147660386, -0.8995337230918148),\n",
       " (0.3775514209502336, -0.6025485974135911),\n",
       " (0.4535360178493919, 0.4023227362332195),\n",
       " (0.9825411412113119, 0.4546875331849926),\n",
       " (-0.9827338041399442, -0.4550862305085006),\n",
       " (-0.5027246972954393, -0.4819645861739406),\n",
       " (-0.318117932321257, 0.5330855324025778),\n",
       " (0.1298249999229779, 0.8996924065925523),\n",
       " (-0.2277641714554352, 0.04444982745732749),\n",
       " (-0.793360188156781, 0.1395884248906817),\n",
       " (-0.6862582301249514, 0.9631953286633697),\n",
       " (-0.4382430412160779, 0.6752592601378467),\n",
       " (0.8126630292098962, 0.8912984709847201),\n",
       " (0.9447937860246455, -0.7190795154509706),\n",
       " (-0.9445367272785068, 0.718511592260078),\n",
       " (-0.8115459367832901, -0.890043623935948)]"
      ]
     },
     "execution_count": 5,
     "metadata": {},
     "output_type": "execute_result"
    }
   ],
   "source": [
    "x = [\n",
    "    0.01891292408754552,\n",
    "0.6803715000816603,\n",
    "0.7933237708616371,\n",
    "0.5254933672691432,\n",
    "-0.1297343147660386,\n",
    "0.3775514209502336,\n",
    "0.4535360178493919,\n",
    "0.9825411412113119,\n",
    "-0.9827338041399442,\n",
    "-0.5027246972954393,\n",
    "-0.3181179323212570,\n",
    "0.1298249999229779,\n",
    "-0.2277641714554352,\n",
    "-0.7933601881567810,\n",
    "-0.6862582301249514,\n",
    "-0.4382430412160779,\n",
    "0.8126630292098962,\n",
    "0.9447937860246455,\n",
    "-0.9445367272785068,\n",
    "-0.8115459367832901,\n",
    "]\n",
    "y = [\n",
    "    -0.02287466496281691,\n",
    "-0.9566699802943653,\n",
    "-0.1406230286668363,\n",
    "0.5170444007222179,\n",
    "-0.8995337230918148,\n",
    "-0.6025485974135911,\n",
    "0.4023227362332195,\n",
    "0.4546875331849926,\n",
    "-0.4550862305085006,\n",
    "-0.4819645861739406,\n",
    "0.5330855324025778,\n",
    "0.8996924065925523,\n",
    "0.04444982745732749,\n",
    "0.1395884248906817,\n",
    "0.9631953286633697,\n",
    "0.6752592601378467,\n",
    "0.8912984709847201,\n",
    "-0.7190795154509706,\n",
    "0.7185115922600780,\n",
    "-0.8900436239359480,\n",
    "]\n",
    "POINTS = list(zip(x,y))\n",
    "POINTS"
   ]
  },
  {
   "cell_type": "code",
   "execution_count": 6,
   "id": "2c30abb4",
   "metadata": {},
   "outputs": [],
   "source": [
    "# points from interval (-1,1)"
   ]
  },
  {
   "cell_type": "code",
   "execution_count": 7,
   "id": "c31712a7",
   "metadata": {},
   "outputs": [],
   "source": [
    "def lin_map(x):\n",
    "    return (x+1)/2"
   ]
  },
  {
   "cell_type": "code",
   "execution_count": 8,
   "id": "223562c1",
   "metadata": {},
   "outputs": [
    {
     "data": {
      "text/plain": [
       "[(0.5094564620437727, 0.48856266751859156),\n",
       " (0.8401857500408301, 0.02166500985281733),\n",
       " (0.8966618854308186, 0.42968848566658185),\n",
       " (0.7627466836345715, 0.758522200361109),\n",
       " (0.4351328426169807, 0.05023313845409261),\n",
       " (0.6887757104751168, 0.19872570129320444),\n",
       " (0.726768008924696, 0.7011613681166098),\n",
       " (0.9912705706056559, 0.7273437665924963),\n",
       " (0.008633097930027922, 0.2724568847457497),\n",
       " (0.24863765135228033, 0.2590177069130297),\n",
       " (0.34094103383937147, 0.7665427662012889),\n",
       " (0.564912499961489, 0.9498462032962762),\n",
       " (0.38611791427228237, 0.5222249137286638),\n",
       " (0.1033199059216095, 0.5697942124453409),\n",
       " (0.15687088493752432, 0.9815976643316848),\n",
       " (0.2808784793919611, 0.8376296300689233),\n",
       " (0.9063315146049481, 0.94564923549236),\n",
       " (0.9723968930123228, 0.1404602422745147),\n",
       " (0.027731636360746603, 0.859255796130039),\n",
       " (0.09422703160835494, 0.054978188032025976)]"
      ]
     },
     "execution_count": 8,
     "metadata": {},
     "output_type": "execute_result"
    }
   ],
   "source": [
    "new_coords = []\n",
    "for coords in POINTS:\n",
    "    new_coords.append((lin_map(coords[0]), lin_map(coords[1])))\n",
    "# points in interval (0,1)\n",
    "new_coords"
   ]
  }
 ],
 "metadata": {
  "kernelspec": {
   "display_name": "Python 3 (ipykernel)",
   "language": "python",
   "name": "python3"
  },
  "language_info": {
   "codemirror_mode": {
    "name": "ipython",
    "version": 3
   },
   "file_extension": ".py",
   "mimetype": "text/x-python",
   "name": "python",
   "nbconvert_exporter": "python",
   "pygments_lexer": "ipython3",
   "version": "3.11.4"
  }
 },
 "nbformat": 4,
 "nbformat_minor": 5
}
