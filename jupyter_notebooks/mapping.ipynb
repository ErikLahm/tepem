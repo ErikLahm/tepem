{
 "cells": [
  {
   "cell_type": "code",
   "execution_count": 1,
   "id": "c4ea3845",
   "metadata": {},
   "outputs": [],
   "source": [
    "import sys\n",
    "sys.path.append('/Users/erikweilandt/Library/Caches/pypoetry/virtualenvs/tepem-FeojsIC2-py3.11/lib/python3.11/site-packages')"
   ]
  },
  {
   "cell_type": "code",
   "execution_count": 2,
   "id": "7cb40de0",
   "metadata": {},
   "outputs": [],
   "source": [
    "from sympy import symbols, diff, factor, simplify, collect"
   ]
  },
  {
   "cell_type": "code",
   "execution_count": 3,
   "id": "16787fa6",
   "metadata": {},
   "outputs": [],
   "source": [
    "x, y, v0, v1, v2, v3, v4, v5 = symbols(\"x y v0 v1 v2 v3 v4 v5\")"
   ]
  },
  {
   "cell_type": "markdown",
   "id": "784c8bc7",
   "metadata": {},
   "source": [
    "### $\\mathbb{P}_1$ shape functions 1D"
   ]
  },
  {
   "cell_type": "code",
   "execution_count": 4,
   "id": "aaeac094",
   "metadata": {},
   "outputs": [],
   "source": [
    "phi_1 = 1-y\n",
    "phi_2 = y"
   ]
  },
  {
   "cell_type": "markdown",
   "id": "c86c294b",
   "metadata": {},
   "source": [
    "### $\\mathbb{P}_2$ shape functions 1D"
   ]
  },
  {
   "cell_type": "code",
   "execution_count": 5,
   "id": "6cd8043c",
   "metadata": {},
   "outputs": [],
   "source": [
    "psi_1 = (2*x-1)*(x-1)\n",
    "psi_2 = -4*x*(x-1)\n",
    "psi_3 = x*(2*x-1)"
   ]
  },
  {
   "cell_type": "code",
   "execution_count": 8,
   "id": "9b1cd79a",
   "metadata": {},
   "outputs": [
    {
     "data": {
      "text/latex": [
       "$\\displaystyle v_{0} \\cdot \\left(1 - y\\right) \\left(x - 1\\right) \\left(2 x - 1\\right) - 4 v_{1} x \\left(1 - y\\right) \\left(x - 1\\right) + v_{2} x \\left(1 - y\\right) \\left(2 x - 1\\right) + v_{3} y \\left(x - 1\\right) \\left(2 x - 1\\right) - 4 v_{4} x y \\left(x - 1\\right) + v_{5} x y \\left(2 x - 1\\right)$"
      ],
      "text/plain": [
       "v0*(1 - y)*(x - 1)*(2*x - 1) - 4*v1*x*(1 - y)*(x - 1) + v2*x*(1 - y)*(2*x - 1) + v3*y*(x - 1)*(2*x - 1) - 4*v4*x*y*(x - 1) + v5*x*y*(2*x - 1)"
      ]
     },
     "execution_count": 8,
     "metadata": {},
     "output_type": "execute_result"
    }
   ],
   "source": [
    "mapping = v0 * phi_1 * psi_1 + v1 * phi_1 * psi_2 + v2 * phi_1 * psi_3 + v3 * phi_2 * psi_1 + v4 * phi_2 * psi_2 + v5 * phi_2 * psi_3\n",
    "mapping"
   ]
  },
  {
   "cell_type": "code",
   "execution_count": 9,
   "id": "87085b00",
   "metadata": {},
   "outputs": [
    {
     "data": {
      "text/latex": [
       "$\\displaystyle 1.0 v_{4}$"
      ],
      "text/plain": [
       "1.0*v4"
      ]
     },
     "execution_count": 9,
     "metadata": {},
     "output_type": "execute_result"
    }
   ],
   "source": [
    "mapping.subs([(x,0.5), (y,1)])"
   ]
  },
  {
   "cell_type": "code",
   "execution_count": 10,
   "id": "3f79c956",
   "metadata": {},
   "outputs": [
    {
     "name": "stdout",
     "output_type": "stream",
     "text": [
      "v0*(1 - y)*(x - 1)*(2*x - 1) - 4*v1*x*(1 - y)*(x - 1) + v2*x*(1 - y)*(2*x - 1) + v3*y*(x - 1)*(2*x - 1) - 4*v4*x*y*(x - 1) + v5*x*y*(2*x - 1)\n"
     ]
    }
   ],
   "source": [
    "print(mapping)"
   ]
  },
  {
   "cell_type": "code",
   "execution_count": 11,
   "id": "fa166cce",
   "metadata": {},
   "outputs": [
    {
     "name": "stdout",
     "output_type": "stream",
     "text": [
      "2*v0*(1 - y)*(x - 1) + v0*(1 - y)*(2*x - 1) - 4*v1*x*(1 - y) - 4*v1*(1 - y)*(x - 1) + 2*v2*x*(1 - y) + v2*(1 - y)*(2*x - 1) + 2*v3*y*(x - 1) + v3*y*(2*x - 1) - 4*v4*x*y - 4*v4*y*(x - 1) + 2*v5*x*y + v5*y*(2*x - 1)\n"
     ]
    }
   ],
   "source": [
    "df_dx = diff(mapping, x)\n",
    "print(df_dx)"
   ]
  },
  {
   "cell_type": "code",
   "execution_count": 12,
   "id": "55e10cf7",
   "metadata": {},
   "outputs": [
    {
     "name": "stdout",
     "output_type": "stream",
     "text": [
      "-v0*(x - 1)*(2*x - 1) + 4*v1*x*(x - 1) - v2*x*(2*x - 1) + v3*(x - 1)*(2*x - 1) - 4*v4*x*(x - 1) + v5*x*(2*x - 1)\n"
     ]
    }
   ],
   "source": [
    "df_dy = diff(mapping, y)\n",
    "print(df_dy)"
   ]
  }
 ],
 "metadata": {
  "kernelspec": {
   "display_name": "Python 3 (ipykernel)",
   "language": "python",
   "name": "python3"
  },
  "language_info": {
   "codemirror_mode": {
    "name": "ipython",
    "version": 3
   },
   "file_extension": ".py",
   "mimetype": "text/x-python",
   "name": "python",
   "nbconvert_exporter": "python",
   "pygments_lexer": "ipython3",
   "version": "3.11.4"
  }
 },
 "nbformat": 4,
 "nbformat_minor": 5
}
