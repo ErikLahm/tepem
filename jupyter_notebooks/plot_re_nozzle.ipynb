{
 "cells": [
  {
   "cell_type": "code",
   "execution_count": 1,
   "metadata": {},
   "outputs": [],
   "source": [
    "from typing import Dict, Tuple\n",
    "import os\n",
    "import numpy as np\n",
    "import numpy.typing as npt\n",
    "import matplotlib.pyplot as plt\n",
    "import matplotlib.tri as tri"
   ]
  },
  {
   "cell_type": "code",
   "execution_count": 2,
   "metadata": {},
   "outputs": [],
   "source": [
    "fluxes = {\n",
    "    \"Slow\": 5e-4,\n",
    "    \"Normal\": 5e-3,\n",
    "    \"Fast\": 5e-2,\n",
    "    \"FFast\": 5e-1,\n",
    "    \"FFFast\": 5,\n",
    "    \"FFFFast\": 50,\n",
    "}\n",
    "\n",
    "folder_path_tepem = \"/Users/erikweilandt/Documents/university/master_thesis/tepem/results\"\n",
    "folder_path_elena = \"/Users/erikweilandt/Library/Mobile Documents/com~apple~CloudDocs/University/MSc Mathematics Como/master_thesis/sims_elena/HStokes\"\n",
    "results_path = \"/Users/erikweilandt/Documents/university/master_thesis/tepem/results/plots\"\n",
    "\n",
    "elena_p_file_name = 'p240_newtoniano'\n",
    "elena_u_file_name = 'u240_newtoniano'\n",
    "tepem_p_file_name = 'p_lr'\n",
    "tepem_u_file_name = 'u_hr'"
   ]
  },
  {
   "cell_type": "code",
   "execution_count": 3,
   "metadata": {},
   "outputs": [],
   "source": [
    "def get_tepem_folder_names(fluxes: dict[str, float], num_slabs: int) -> dict[str,str]:\n",
    "    folder_names = {speed : f\"nozzles_n{num_slabs}_q{speed}\" for speed in fluxes.keys()}\n",
    "    return folder_names\n",
    "\n",
    "def get_elena_folder_names(fluxes: dict[str, float], degree: int) -> dict[str,str]:\n",
    "    folder_names = {speed : f\"HStokes{speed}{str(degree)}\" for speed in fluxes.keys()}\n",
    "    return folder_names\n",
    "\n",
    "elenas_folder = get_elena_folder_names(fluxes=fluxes,degree=5)\n",
    "tepems_folder = get_tepem_folder_names(fluxes=fluxes, num_slabs=10)"
   ]
  },
  {
   "cell_type": "code",
   "execution_count": 4,
   "metadata": {},
   "outputs": [],
   "source": [
    "def read_csv_files_to_dict(folder_path: str) -> Dict[str, npt.NDArray[np.float64]]:\n",
    "    data_dict: Dict[str,npt.NDArray[np.float64]] = {}\n",
    "\n",
    "    for file_name in os.listdir(folder_path):\n",
    "        if file_name.endswith('.csv'):\n",
    "            file_path = os.path.join(folder_path, file_name)\n",
    "            key = file_name[:-4]  # Remove the '.csv' extension to get the key name\n",
    "\n",
    "            # Read the CSV file into a NumPy array and store in the dictionary\n",
    "            try:\n",
    "                data_dict[key] = np.loadtxt(file_path, delimiter=',', dtype=np.float64)\n",
    "            except:\n",
    "                data_dict[key] = np.loadtxt(file_path, dtype=np.float64)\n",
    "\n",
    "    return data_dict\n",
    "\n",
    "def process_subfolders(directory_path: str, folder_names: dict[str,str]) -> Dict[str, Dict[str, npt.NDArray[np.float64]]]:\n",
    "    result_dict: Dict[str, Dict[str, npt.NDArray[np.float64]]] = {}\n",
    "\n",
    "    for subfolder in os.listdir(directory_path):\n",
    "        if subfolder in folder_names.values():\n",
    "            subfolder_path = os.path.join(directory_path, subfolder)\n",
    "            if \"H5\" in os.listdir(subfolder_path):\n",
    "                subfolder_path = os.path.join(subfolder_path, \"H5\")\n",
    "            if os.path.isdir(subfolder_path):\n",
    "                try:\n",
    "                    folder_id = list(folder_names.keys())[list(folder_names.values()).index(subfolder)]  # Extract the number from the subfolder name\n",
    "                    result_dict[folder_id] = read_csv_files_to_dict(subfolder_path)\n",
    "                except ValueError:\n",
    "                    print(f\"Could not load folder: {subfolder}\")\n",
    "\n",
    "\n",
    "    return result_dict"
   ]
  },
  {
   "cell_type": "code",
   "execution_count": 5,
   "metadata": {},
   "outputs": [
    {
     "data": {
      "text/plain": [
       "{'Slow': {'p240_newtoniano': array([[ 5.000000e-10, -1.250000e-02,  0.000000e+00,  3.437584e+01],\n",
       "         [ 1.250000e-04, -1.250000e-02,  0.000000e+00,  3.437196e+01],\n",
       "         [ 2.500000e-04, -1.250000e-02,  0.000000e+00,  3.436808e+01],\n",
       "         ...,\n",
       "         [ 1.197500e-01,  3.751130e-03,  0.000000e+00,  2.872037e-01],\n",
       "         [ 1.198750e-01,  3.751130e-03,  0.000000e+00,  1.436018e-01],\n",
       "         [ 1.200000e-01,  3.751130e-03,  0.000000e+00,  5.733242e-07]]),\n",
       "  'u240_newtoniano': array([[ 2.500000e-10, -1.250000e-02,  0.000000e+00,  0.000000e+00,\n",
       "          -0.000000e+00,  0.000000e+00],\n",
       "         [ 6.250000e-05, -1.250000e-02,  0.000000e+00,  0.000000e+00,\n",
       "           0.000000e+00,  0.000000e+00],\n",
       "         [ 1.250000e-04, -1.250000e-02,  0.000000e+00,  0.000000e+00,\n",
       "           0.000000e+00,  0.000000e+00],\n",
       "         ...,\n",
       "         [ 1.198750e-01,  3.751130e-03,  0.000000e+00,  0.000000e+00,\n",
       "           0.000000e+00,  0.000000e+00],\n",
       "         [ 1.199375e-01,  3.751130e-03,  0.000000e+00,  0.000000e+00,\n",
       "           0.000000e+00,  0.000000e+00],\n",
       "         [ 1.200000e-01,  3.751130e-03,  0.000000e+00,  0.000000e+00,\n",
       "           0.000000e+00,  0.000000e+00]])},\n",
       " 'Normal': {'p240_newtoniano': array([[ 5.000000e-10, -1.250000e-02,  0.000000e+00,  3.437600e+02],\n",
       "         [ 1.250000e-04, -1.250000e-02,  0.000000e+00,  3.437211e+02],\n",
       "         [ 2.500000e-04, -1.250000e-02,  0.000000e+00,  3.436823e+02],\n",
       "         ...,\n",
       "         [ 1.197500e-01,  3.751130e-03,  0.000000e+00,  2.872049e+00],\n",
       "         [ 1.198750e-01,  3.751130e-03,  0.000000e+00,  1.436024e+00],\n",
       "         [ 1.200000e-01,  3.751130e-03,  0.000000e+00,  5.322661e-06]]),\n",
       "  'u240_newtoniano': array([[ 2.500000e-10, -1.250000e-02,  0.000000e+00,  0.000000e+00,\n",
       "          -0.000000e+00,  0.000000e+00],\n",
       "         [ 6.250000e-05, -1.250000e-02,  0.000000e+00,  0.000000e+00,\n",
       "           0.000000e+00,  0.000000e+00],\n",
       "         [ 1.250000e-04, -1.250000e-02,  0.000000e+00,  0.000000e+00,\n",
       "           0.000000e+00,  0.000000e+00],\n",
       "         ...,\n",
       "         [ 1.198750e-01,  3.751130e-03,  0.000000e+00,  0.000000e+00,\n",
       "           0.000000e+00,  0.000000e+00],\n",
       "         [ 1.199375e-01,  3.751130e-03,  0.000000e+00,  0.000000e+00,\n",
       "           0.000000e+00,  0.000000e+00],\n",
       "         [ 1.200000e-01,  3.751130e-03,  0.000000e+00,  0.000000e+00,\n",
       "           0.000000e+00,  0.000000e+00]])},\n",
       " 'FFast': {'p240_newtoniano': array([[ 5.000000e-10, -1.250000e-02,  0.000000e+00,  3.401327e+04],\n",
       "         [ 1.250000e-04, -1.250000e-02,  0.000000e+00,  3.400992e+04],\n",
       "         [ 2.500000e-04, -1.250000e-02,  0.000000e+00,  3.400657e+04],\n",
       "         ...,\n",
       "         [ 1.197500e-01,  3.751130e-03,  0.000000e+00,  2.859302e+02],\n",
       "         [ 1.198750e-01,  3.751130e-03,  0.000000e+00,  1.433409e+02],\n",
       "         [ 1.200000e-01,  3.751130e-03,  0.000000e+00,  7.522154e-01]]),\n",
       "  'u240_newtoniano': array([[ 2.500000e-10, -1.250000e-02,  0.000000e+00,  0.000000e+00,\n",
       "          -0.000000e+00,  0.000000e+00],\n",
       "         [ 6.250000e-05, -1.250000e-02,  0.000000e+00,  0.000000e+00,\n",
       "           0.000000e+00,  0.000000e+00],\n",
       "         [ 1.250000e-04, -1.250000e-02,  0.000000e+00,  0.000000e+00,\n",
       "           0.000000e+00,  0.000000e+00],\n",
       "         ...,\n",
       "         [ 1.198750e-01,  3.751130e-03,  0.000000e+00,  0.000000e+00,\n",
       "           0.000000e+00,  0.000000e+00],\n",
       "         [ 1.199375e-01,  3.751130e-03,  0.000000e+00,  0.000000e+00,\n",
       "           0.000000e+00,  0.000000e+00],\n",
       "         [ 1.200000e-01,  3.751130e-03,  0.000000e+00,  0.000000e+00,\n",
       "           0.000000e+00,  0.000000e+00]])},\n",
       " 'FFFast': {'p240_newtoniano': array([[ 5.000000e-10, -1.250000e-02,  0.000000e+00,  7.134702e+13],\n",
       "         [ 1.250000e-04, -1.250000e-02,  0.000000e+00,  7.133896e+13],\n",
       "         [ 2.500000e-04, -1.250000e-02,  0.000000e+00,  7.133090e+13],\n",
       "         ...,\n",
       "         [ 1.197500e-01,  3.751130e-03,  0.000000e+00,  5.960909e+11],\n",
       "         [ 1.198750e-01,  3.751130e-03,  0.000000e+00,  2.980454e+11],\n",
       "         [ 1.200000e-01,  3.751130e-03,  0.000000e+00,  1.189956e+06]]),\n",
       "  'u240_newtoniano': array([[ 2.500000e-10, -1.250000e-02,  0.000000e+00,  0.000000e+00,\n",
       "          -0.000000e+00,  0.000000e+00],\n",
       "         [ 6.250000e-05, -1.250000e-02,  0.000000e+00,  0.000000e+00,\n",
       "           0.000000e+00,  0.000000e+00],\n",
       "         [ 1.250000e-04, -1.250000e-02,  0.000000e+00,  0.000000e+00,\n",
       "           0.000000e+00,  0.000000e+00],\n",
       "         ...,\n",
       "         [ 1.198750e-01,  3.751130e-03,  0.000000e+00,  0.000000e+00,\n",
       "           0.000000e+00,  0.000000e+00],\n",
       "         [ 1.199375e-01,  3.751130e-03,  0.000000e+00,  0.000000e+00,\n",
       "           0.000000e+00,  0.000000e+00],\n",
       "         [ 1.200000e-01,  3.751130e-03,  0.000000e+00,  0.000000e+00,\n",
       "           0.000000e+00,  0.000000e+00]])},\n",
       " 'Fast': {'p240_newtoniano': array([[ 5.000000e-10, -1.250000e-02,  0.000000e+00,  3.433919e+03],\n",
       "         [ 1.250000e-04, -1.250000e-02,  0.000000e+00,  3.433531e+03],\n",
       "         [ 2.500000e-04, -1.250000e-02,  0.000000e+00,  3.433143e+03],\n",
       "         ...,\n",
       "         [ 1.197500e-01,  3.751130e-03,  0.000000e+00,  2.868513e+01],\n",
       "         [ 1.198750e-01,  3.751130e-03,  0.000000e+00,  1.434286e+01],\n",
       "         [ 1.200000e-01,  3.751130e-03,  0.000000e+00,  6.375346e-04]]),\n",
       "  'u240_newtoniano': array([[ 2.500000e-10, -1.250000e-02,  0.000000e+00,  0.000000e+00,\n",
       "          -0.000000e+00,  0.000000e+00],\n",
       "         [ 6.250000e-05, -1.250000e-02,  0.000000e+00,  0.000000e+00,\n",
       "           0.000000e+00,  0.000000e+00],\n",
       "         [ 1.250000e-04, -1.250000e-02,  0.000000e+00,  0.000000e+00,\n",
       "           0.000000e+00,  0.000000e+00],\n",
       "         ...,\n",
       "         [ 1.198750e-01,  3.751130e-03,  0.000000e+00,  0.000000e+00,\n",
       "           0.000000e+00,  0.000000e+00],\n",
       "         [ 1.199375e-01,  3.751130e-03,  0.000000e+00,  0.000000e+00,\n",
       "           0.000000e+00,  0.000000e+00],\n",
       "         [ 1.200000e-01,  3.751130e-03,  0.000000e+00,  0.000000e+00,\n",
       "           0.000000e+00,  0.000000e+00]])}}"
      ]
     },
     "execution_count": 5,
     "metadata": {},
     "output_type": "execute_result"
    }
   ],
   "source": [
    "elenas_data = process_subfolders(directory_path=folder_path_elena, folder_names=elenas_folder)\n",
    "tepems_data = process_subfolders(directory_path=folder_path_tepem, folder_names=tepems_folder)\n",
    "elenas_data"
   ]
  },
  {
   "cell_type": "code",
   "execution_count": 6,
   "metadata": {},
   "outputs": [],
   "source": [
    "def return_single_cols(full_csv: npt.NDArray[np.float64]) -> Tuple[npt.NDArray[np.float64], ...]:\n",
    "    num_cols = full_csv.shape[1]\n",
    "    columns: list[npt.NDArray[np.float64]] = []\n",
    "    for col in range(num_cols):\n",
    "        columns.append(full_csv[:,col])\n",
    "    return tuple(columns)"
   ]
  },
  {
   "cell_type": "code",
   "execution_count": 7,
   "metadata": {},
   "outputs": [],
   "source": [
    "def plot_pressure_overview(\n",
    "        ax, \n",
    "        x_p_elena: list[npt.NDArray[np.float64]], \n",
    "        p_elena: list[npt.NDArray[np.float64]], \n",
    "        x_p_tepem: list[npt.NDArray[np.float64]], \n",
    "        p_tepem: list[npt.NDArray[np.float64]], \n",
    "        zoom_area: list[Tuple[int, ...]] = []):\n",
    "    for x_p_e, p_e, x_p_t, p_t in list(zip(x_p_elena, p_elena, x_p_tepem, p_tepem)):\n",
    "        pres_shape = (1,3)\n",
    "        x_pressure = x_p_t[0 :: pres_shape[1] + 1]\n",
    "        average_pressure = np.average(p_t.reshape(int(len(p_t)/4),-1), axis=1)\n",
    "        ax.plot(x_p_e[:1200], p_e[:1200], label=f\"Travaglia\", color='red')\n",
    "        ax.plot(x_pressure, average_pressure, label=f\"average TEPEM\", color='red', linestyle=\"dotted\")\n",
    "    if zoom_area:\n",
    "        x1,x2,y1,y2 = zoom_area\n",
    "        axins = ax.inset_axes(\n",
    "            [0.1, 0.1, 0.2, 0.2],\n",
    "            xlim=(x1, x2), ylim=(y1, y2))\n",
    "        axins.plot(x_p_elena[:1200], p_elena[:1200], label=f\"Travaglia\")\n",
    "        ax.indicate_inset_zoom(axins, edgecolor=\"black\")\n",
    "    ax.set_ylabel(\"pressure\")\n",
    "    ax.set_xlabel(\"length in $x_1$-direction\")\n",
    "    ax.grid(True)\n",
    "    ax.legend()"
   ]
  },
  {
   "cell_type": "code",
   "execution_count": 8,
   "metadata": {},
   "outputs": [],
   "source": [
    "def get_inlet_pressures(pressure_data: npt.NDArray[np.float64], elena_data: bool = True):\n",
    "    if elena_data:\n",
    "        return pressure_data[0]\n",
    "    average_pressure = np.average(pressure_data.reshape(int(len(pressure_data)/4),-1), axis=1)\n",
    "    return average_pressure[0]"
   ]
  },
  {
   "cell_type": "code",
   "execution_count": 9,
   "metadata": {},
   "outputs": [],
   "source": [
    "def sort_data_to_col_type(full_data: Dict[str, Dict[str, npt.NDArray[np.float64]]], elena_data: bool = True):\n",
    "    x_corrds: list[npt.NDArray[np.float64]] = []\n",
    "    p_values: list[npt.NDArray[np.float64]] = []\n",
    "    for data in full_data.values():\n",
    "        if elena_data:\n",
    "            x,_,_,p = return_single_cols(full_csv=data[elena_p_file_name])\n",
    "        else:\n",
    "            x,_,p, = return_single_cols(full_csv=data[tepem_p_file_name])\n",
    "        x_corrds.append(x)\n",
    "        p_values.append(p)\n",
    "    return x_corrds, p_values"
   ]
  },
  {
   "cell_type": "code",
   "execution_count": 10,
   "metadata": {},
   "outputs": [],
   "source": [
    "x_e, p_e = sort_data_to_col_type(elenas_data)\n",
    "x_t, p_t = sort_data_to_col_type(tepems_data, elena_data=False)"
   ]
  },
  {
   "cell_type": "code",
   "execution_count": 11,
   "metadata": {},
   "outputs": [
    {
     "data": {
      "image/png": "[encoded data removed]",
      "text/plain": [
       "<Figure size 640x480 with 1 Axes>"
      ]
     },
     "metadata": {},
     "output_type": "display_data"
    }
   ],
   "source": [
    "fig, ax = plt.subplots()\n",
    "plot_pressure_overview(ax=ax, x_p_elena=x_e, p_elena=p_e, x_p_tepem=x_t, p_tepem=p_t)"
   ]
  },
  {
   "cell_type": "code",
   "execution_count": 16,
   "metadata": {},
   "outputs": [
    {
     "name": "stdout",
     "output_type": "stream",
     "text": [
      "elena: 34.37584, tepem: 34.27164401801201, difference: 0.20227649026305525\n",
      "elena: 343.76, tepem: 342.71644018012, difference: 0.20258647028589644\n",
      "elena: 3433.919, tepem: 3427.1644018012007, difference: 0.13122091545345113\n",
      "elena: 34013.27, tepem: 34271.64401801201, difference: 0.5051390119819176\n",
      "elena: 71347020000000.0, tepem: 3427164.4018011983, difference: 99.99999279472853\n",
      "\n"
     ]
    }
   ],
   "source": [
    "def get_pressure_summary(pressures_elena: list[npt.NDArray[np.float64]], pressures_tepem: list[npt.NDArray[np.float64]]):\n",
    "    inlet_p_elena = []\n",
    "    inlet_p_tepem = []\n",
    "    for p_e, p_t in list(zip(pressures_elena, pressures_tepem)):\n",
    "        inlet_p_elena.append(get_inlet_pressures(p_e))\n",
    "        inlet_p_tepem.append(get_inlet_pressures(p_t, elena_data=False))\n",
    "    inlet_p_elena.sort()\n",
    "    inlet_p_tepem.sort() \n",
    "    inlet_e = np.array(inlet_p_elena)\n",
    "    inlet_t = np.array(inlet_p_tepem)\n",
    "    difference = np.absolute(inlet_e - inlet_t)\n",
    "    average = inlet_e + inlet_t / 2\n",
    "    rel_diff = difference / average * 100\n",
    "    output = \"\"\n",
    "    for i, value in enumerate(rel_diff):\n",
    "        specific_output = f\"elena: {inlet_e[i]}, tepem: {inlet_t[i]}, difference: {value}\\n\"\n",
    "        output += specific_output\n",
    "    return output\n",
    "\n",
    "\n",
    "\n",
    "print(get_pressure_summary(p_e, p_t))"
   ]
  },
  {
   "cell_type": "code",
   "execution_count": null,
   "metadata": {},
   "outputs": [],
   "source": []
  }
 ],
 "metadata": {
  "kernelspec": {
   "display_name": "tepem-FeojsIC2-py3.11",
   "language": "python",
   "name": "python3"
  },
  "language_info": {
   "codemirror_mode": {
    "name": "ipython",
    "version": 3
   },
   "file_extension": ".py",
   "mimetype": "text/x-python",
   "name": "python",
   "nbconvert_exporter": "python",
   "pygments_lexer": "ipython3",
   "version": "3.11.4"
  }
 },
 "nbformat": 4,
 "nbformat_minor": 2
}
