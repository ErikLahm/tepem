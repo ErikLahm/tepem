{
 "cells": [
  {
   "cell_type": "code",
   "execution_count": 1,
   "id": "9d56ec48",
   "metadata": {},
   "outputs": [],
   "source": [
    "import sys\n",
    "sys.path.append('/Users/erikweilandt/Library/Caches/pypoetry/virtualenvs/tepem-FeojsIC2-py3.11/lib/python3.11/site-packages')"
   ]
  },
  {
   "cell_type": "code",
   "execution_count": 2,
   "id": "ebda591a",
   "metadata": {},
   "outputs": [],
   "source": [
    "from sympy import symbols, simplify, prod, plot, diff\n",
    "import numpy as np"
   ]
  },
  {
   "cell_type": "code",
   "execution_count": 3,
   "id": "7e44acc2",
   "metadata": {},
   "outputs": [],
   "source": [
    "x, y = symbols(\"x y\")"
   ]
  },
  {
   "cell_type": "code",
   "execution_count": 4,
   "id": "b7c217ea",
   "metadata": {},
   "outputs": [],
   "source": [
    "sf_dic = {\"psi_0\" : (1-x) * (1-y),\n",
    "\"psi_1\" : x * (1-y),\n",
    "\"psi_2\" : (1-x) * y,\n",
    "\"psi_3\" : x*y}"
   ]
  },
  {
   "cell_type": "code",
   "execution_count": 5,
   "id": "53532395",
   "metadata": {},
   "outputs": [
    {
     "name": "stdout",
     "output_type": "stream",
     "text": [
      "def psi_0(x: float, y: float) -> float:\n",
      "\treturn (1 - x)*(1 - y)\n",
      "def psi_1(x: float, y: float) -> float:\n",
      "\treturn x*(1 - y)\n",
      "def psi_2(x: float, y: float) -> float:\n",
      "\treturn y*(1 - x)\n",
      "def psi_3(x: float, y: float) -> float:\n",
      "\treturn x*y\n"
     ]
    }
   ],
   "source": [
    "for sf_name, sf in sf_dic.items():\n",
    "    def_header = f\"def {sf_name}(x: float, y: float) -> float:\\n\"\n",
    "    body = f\"\\treturn {sf}\"\n",
    "    print(def_header + body)"
   ]
  },
  {
   "cell_type": "code",
   "execution_count": 6,
   "id": "4e23a1fd",
   "metadata": {},
   "outputs": [
    {
     "data": {
      "text/plain": [
       "{'grad_psi_0': (y - 1, x - 1),\n",
       " 'grad_psi_1': (1 - y, -x),\n",
       " 'grad_psi_2': (-y, 1 - x),\n",
       " 'grad_psi_3': (y, x)}"
      ]
     },
     "execution_count": 6,
     "metadata": {},
     "output_type": "execute_result"
    }
   ],
   "source": [
    "grad_sf = {}\n",
    "for i, sf in enumerate(sf_dic.values()):\n",
    "    grad_x = diff(sf, x)\n",
    "    grad_y = diff(sf, y)\n",
    "    grad_sf[f\"grad_psi_{i}\"] = (grad_x, grad_y)\n",
    "grad_sf"
   ]
  },
  {
   "cell_type": "code",
   "execution_count": 7,
   "id": "167ed5eb",
   "metadata": {},
   "outputs": [
    {
     "name": "stdout",
     "output_type": "stream",
     "text": [
      "def grad_psi_0(x: float, y: float) -> npt.NDArray[np.float64]:\n",
      "\tphi_dx = y - 1\n",
      "\tphi_dy = x - 1\n",
      "\treturn np.array([phi_dx, phi_dy])\n",
      "def grad_psi_1(x: float, y: float) -> npt.NDArray[np.float64]:\n",
      "\tphi_dx = 1 - y\n",
      "\tphi_dy = -x\n",
      "\treturn np.array([phi_dx, phi_dy])\n",
      "def grad_psi_2(x: float, y: float) -> npt.NDArray[np.float64]:\n",
      "\tphi_dx = -y\n",
      "\tphi_dy = 1 - x\n",
      "\treturn np.array([phi_dx, phi_dy])\n",
      "def grad_psi_3(x: float, y: float) -> npt.NDArray[np.float64]:\n",
      "\tphi_dx = y\n",
      "\tphi_dy = x\n",
      "\treturn np.array([phi_dx, phi_dy])\n"
     ]
    }
   ],
   "source": [
    "for sf_name, sf in grad_sf.items():\n",
    "    def_header = f\"def {sf_name}(x: float, y: float) -> npt.NDArray[np.float64]:\\n\"\n",
    "    body = f\"\\tphi_dx = {sf[0]}\\n\\tphi_dy = {sf[1]}\\n\"\n",
    "    return_str = f\"\\treturn np.array([phi_dx, phi_dy])\"\n",
    "    print(def_header + body + return_str)"
   ]
  }
 ],
 "metadata": {
  "kernelspec": {
   "display_name": "Python 3 (ipykernel)",
   "language": "python",
   "name": "python3"
  },
  "language_info": {
   "codemirror_mode": {
    "name": "ipython",
    "version": 3
   },
   "file_extension": ".py",
   "mimetype": "text/x-python",
   "name": "python",
   "nbconvert_exporter": "python",
   "pygments_lexer": "ipython3",
   "version": "3.11.4"
  }
 },
 "nbformat": 4,
 "nbformat_minor": 5
}
