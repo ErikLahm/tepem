{
 "cells": [
  {
   "cell_type": "code",
   "execution_count": 1,
   "id": "9d56ec48",
   "metadata": {},
   "outputs": [],
   "source": [
    "import sys\n",
    "sys.path.append('/Users/erikweilandt/Library/Caches/pypoetry/virtualenvs/tepem-FeojsIC2-py3.11/lib/python3.11/site-packages')"
   ]
  },
  {
   "cell_type": "code",
   "execution_count": 2,
   "id": "ebda591a",
   "metadata": {},
   "outputs": [],
   "source": [
    "from sympy import symbols, simplify, prod, plot, diff\n",
    "import numpy as np"
   ]
  },
  {
   "cell_type": "code",
   "execution_count": 3,
   "id": "4836fb65",
   "metadata": {},
   "outputs": [],
   "source": [
    "def LagrangPoly(y,order,i,yi=None):\n",
    "    if yi==None:\n",
    "        yi=symbols('y:%d'%(order+1))\n",
    "    index = list(range(order+1))\n",
    "    index.pop(i)\n",
    "    return prod([(y-yi[j])/(yi[i]-yi[j]) for j in index])"
   ]
  },
  {
   "cell_type": "markdown",
   "id": "0ebd51b7",
   "metadata": {},
   "source": [
    "reference: https://www.longqi.cf/python/2014/03/24/implement-of-lagrange-polynomial-in-sympy/"
   ]
  },
  {
   "cell_type": "code",
   "execution_count": 4,
   "id": "628def0e",
   "metadata": {},
   "outputs": [],
   "source": [
    "order_of_pols = 4\n",
    "nodes = np.linspace(0,1, order_of_pols+1)"
   ]
  },
  {
   "cell_type": "code",
   "execution_count": 5,
   "id": "567ad0fd",
   "metadata": {},
   "outputs": [
    {
     "data": {
      "text/latex": [
       "$\\displaystyle \\frac{\\left(y - y_{1}\\right) \\left(y - y_{2}\\right) \\left(y - y_{3}\\right) \\left(y - y_{4}\\right)}{\\left(y_{0} - y_{1}\\right) \\left(y_{0} - y_{2}\\right) \\left(y_{0} - y_{3}\\right) \\left(y_{0} - y_{4}\\right)}$"
      ],
      "text/plain": [
       "(y - y1)*(y - y2)*(y - y3)*(y - y4)/((y0 - y1)*(y0 - y2)*(y0 - y3)*(y0 - y4))"
      ]
     },
     "execution_count": 5,
     "metadata": {},
     "output_type": "execute_result"
    }
   ],
   "source": [
    "x, y=symbols('x y')\n",
    "LagrangPoly(y,order_of_pols,0)"
   ]
  },
  {
   "cell_type": "markdown",
   "id": "51843f5c",
   "metadata": {},
   "source": [
    "## $\\mathbb{P}_d$ shape functions"
   ]
  },
  {
   "cell_type": "code",
   "execution_count": 6,
   "id": "a8ffab79",
   "metadata": {},
   "outputs": [
    {
     "data": {
      "text/plain": [
       "{'xi_0': 1.0*(y - 1)*(1.33333333333333*y - 1.0)*(2.0*y - 1.0)*(4.0*y - 1.0),\n",
       " 'xi_1': y*(-42.6666666666667*y**3 + 96.0*y**2 - 69.3333333333333*y + 16.0),\n",
       " 'xi_2': 4.0*y*(y - 1)*(4.0*y - 3.0)*(4.0*y - 1.0),\n",
       " 'xi_3': y*(-42.6666666666667*y**3 + 74.6666666666667*y**2 - 37.3333333333333*y + 5.33333333333333),\n",
       " 'xi_4': y*(10.6666666666667*y**3 - 16.0*y**2 + 7.33333333333333*y - 1.0)}"
      ]
     },
     "execution_count": 6,
     "metadata": {},
     "output_type": "execute_result"
    }
   ],
   "source": [
    "pols = {}\n",
    "for i in range(order_of_pols+1):\n",
    "    pols[f\"xi_{i}\"] = simplify(LagrangPoly(y,order_of_pols,i,list(nodes)))\n",
    "pols"
   ]
  },
  {
   "cell_type": "code",
   "execution_count": 7,
   "id": "48605ade",
   "metadata": {},
   "outputs": [],
   "source": [
    "#for pol in pols.values():\n",
    "#    plot(pol, (y,0,1))"
   ]
  },
  {
   "cell_type": "markdown",
   "id": "1004685a",
   "metadata": {},
   "source": [
    "### Hardcoded for order 4 polynomials"
   ]
  },
  {
   "cell_type": "code",
   "execution_count": 8,
   "id": "ff2c2df0",
   "metadata": {},
   "outputs": [],
   "source": [
    "#phi_0 = simplify(LagrangPoly(y,4,0,[0, 0.25, 0.5, 0.75, 1]))\n",
    "#phi_1 = simplify(LagrangPoly(y,4,1,[0, 0.25, 0.5, 0.75, 1]))\n",
    "#phi_2 = simplify(LagrangPoly(y,4,2,[0, 0.25, 0.5, 0.75, 1]))\n",
    "#phi_3 = simplify(LagrangPoly(y,4,3,[0, 0.25, 0.5, 0.75, 1]))\n",
    "#phi_4 = simplify(LagrangPoly(y,4,4,[0, 0.25, 0.5, 0.75, 1]))"
   ]
  },
  {
   "cell_type": "code",
   "execution_count": 9,
   "id": "33e81fc5",
   "metadata": {
    "scrolled": true
   },
   "outputs": [],
   "source": [
    "# plot(phi_0,phi_1,phi_2,phi_3,phi_4, (y,0,1))"
   ]
  },
  {
   "cell_type": "markdown",
   "id": "e5b74d8f",
   "metadata": {},
   "source": [
    "## $\\mathbb{P}_1$ shape functions"
   ]
  },
  {
   "cell_type": "code",
   "execution_count": 10,
   "id": "3d5fbd4c",
   "metadata": {},
   "outputs": [],
   "source": [
    "psi_0 = 1 - x\n",
    "psi_1 = x"
   ]
  },
  {
   "cell_type": "code",
   "execution_count": 11,
   "id": "388cd543",
   "metadata": {},
   "outputs": [],
   "source": [
    "# plot(psi_0, psi_1, (x,0,1))"
   ]
  },
  {
   "cell_type": "markdown",
   "id": "dbe25b45",
   "metadata": {},
   "source": [
    "## $\\mathbb{Q}_{1,4}$ shape functions"
   ]
  },
  {
   "cell_type": "code",
   "execution_count": 12,
   "id": "801fdbbe",
   "metadata": {
    "scrolled": true
   },
   "outputs": [
    {
     "data": {
      "text/plain": [
       "{'phi_0': 1.0*(1 - x)*(y - 1)*(1.33333333333333*y - 1.0)*(2.0*y - 1.0)*(4.0*y - 1.0),\n",
       " 'phi_1': y*(1 - x)*(-42.6666666666667*y**3 + 96.0*y**2 - 69.3333333333333*y + 16.0),\n",
       " 'phi_2': 4.0*y*(1 - x)*(y - 1)*(4.0*y - 3.0)*(4.0*y - 1.0),\n",
       " 'phi_3': y*(1 - x)*(-42.6666666666667*y**3 + 74.6666666666667*y**2 - 37.3333333333333*y + 5.33333333333333),\n",
       " 'phi_4': y*(1 - x)*(10.6666666666667*y**3 - 16.0*y**2 + 7.33333333333333*y - 1.0),\n",
       " 'phi_5': 1.0*x*(y - 1)*(1.33333333333333*y - 1.0)*(2.0*y - 1.0)*(4.0*y - 1.0),\n",
       " 'phi_6': x*y*(-42.6666666666667*y**3 + 96.0*y**2 - 69.3333333333333*y + 16.0),\n",
       " 'phi_7': 4.0*x*y*(y - 1)*(4.0*y - 3.0)*(4.0*y - 1.0),\n",
       " 'phi_8': x*y*(-42.6666666666667*y**3 + 74.6666666666667*y**2 - 37.3333333333333*y + 5.33333333333333),\n",
       " 'phi_9': x*y*(10.6666666666667*y**3 - 16.0*y**2 + 7.33333333333333*y - 1.0)}"
      ]
     },
     "execution_count": 12,
     "metadata": {},
     "output_type": "execute_result"
    }
   ],
   "source": [
    "q_sf = {} \n",
    "for i, sf in enumerate(pols.values()):\n",
    "    q_sf[f\"phi_{i}\"] = psi_0 * sf\n",
    "for i, sf in enumerate(pols.values(), order_of_pols+1):\n",
    "    q_sf[f\"phi_{i}\"] = psi_1 * sf\n",
    "q_sf"
   ]
  },
  {
   "cell_type": "code",
   "execution_count": 13,
   "id": "bccaa9d4",
   "metadata": {},
   "outputs": [
    {
     "data": {
      "text/plain": [
       "{'grad_phi_0': (-1.0*(y - 1)*(1.33333333333333*y - 1.0)*(2.0*y - 1.0)*(4.0*y - 1.0),\n",
       "  4.0*(1 - x)*(y - 1)*(1.33333333333333*y - 1.0)*(2.0*y - 1.0) + 2.0*(1 - x)*(y - 1)*(1.33333333333333*y - 1.0)*(4.0*y - 1.0) + 1.33333333333333*(1 - x)*(y - 1)*(2.0*y - 1.0)*(4.0*y - 1.0) + 1.0*(1 - x)*(1.33333333333333*y - 1.0)*(2.0*y - 1.0)*(4.0*y - 1.0)),\n",
       " 'grad_phi_1': (-y*(-42.6666666666667*y**3 + 96.0*y**2 - 69.3333333333333*y + 16.0),\n",
       "  y*(1 - x)*(-128.0*y**2 + 192.0*y - 69.3333333333333) + (1 - x)*(-42.6666666666667*y**3 + 96.0*y**2 - 69.3333333333333*y + 16.0)),\n",
       " 'grad_phi_2': (-4.0*y*(y - 1)*(4.0*y - 3.0)*(4.0*y - 1.0),\n",
       "  16.0*y*(1 - x)*(y - 1)*(4.0*y - 3.0) + 16.0*y*(1 - x)*(y - 1)*(4.0*y - 1.0) + 4.0*y*(1 - x)*(4.0*y - 3.0)*(4.0*y - 1.0) + 4.0*(1 - x)*(y - 1)*(4.0*y - 3.0)*(4.0*y - 1.0)),\n",
       " 'grad_phi_3': (-y*(-42.6666666666667*y**3 + 74.6666666666667*y**2 - 37.3333333333333*y + 5.33333333333333),\n",
       "  y*(1 - x)*(-128.0*y**2 + 149.333333333333*y - 37.3333333333333) + (1 - x)*(-42.6666666666667*y**3 + 74.6666666666667*y**2 - 37.3333333333333*y + 5.33333333333333)),\n",
       " 'grad_phi_4': (-y*(10.6666666666667*y**3 - 16.0*y**2 + 7.33333333333333*y - 1.0),\n",
       "  y*(1 - x)*(32.0*y**2 - 32.0*y + 7.33333333333333) + (1 - x)*(10.6666666666667*y**3 - 16.0*y**2 + 7.33333333333333*y - 1.0)),\n",
       " 'grad_phi_5': (1.0*(y - 1)*(1.33333333333333*y - 1.0)*(2.0*y - 1.0)*(4.0*y - 1.0),\n",
       "  4.0*x*(y - 1)*(1.33333333333333*y - 1.0)*(2.0*y - 1.0) + 2.0*x*(y - 1)*(1.33333333333333*y - 1.0)*(4.0*y - 1.0) + 1.33333333333333*x*(y - 1)*(2.0*y - 1.0)*(4.0*y - 1.0) + 1.0*x*(1.33333333333333*y - 1.0)*(2.0*y - 1.0)*(4.0*y - 1.0)),\n",
       " 'grad_phi_6': (y*(-42.6666666666667*y**3 + 96.0*y**2 - 69.3333333333333*y + 16.0),\n",
       "  x*y*(-128.0*y**2 + 192.0*y - 69.3333333333333) + x*(-42.6666666666667*y**3 + 96.0*y**2 - 69.3333333333333*y + 16.0)),\n",
       " 'grad_phi_7': (4.0*y*(y - 1)*(4.0*y - 3.0)*(4.0*y - 1.0),\n",
       "  16.0*x*y*(y - 1)*(4.0*y - 3.0) + 16.0*x*y*(y - 1)*(4.0*y - 1.0) + 4.0*x*y*(4.0*y - 3.0)*(4.0*y - 1.0) + 4.0*x*(y - 1)*(4.0*y - 3.0)*(4.0*y - 1.0)),\n",
       " 'grad_phi_8': (y*(-42.6666666666667*y**3 + 74.6666666666667*y**2 - 37.3333333333333*y + 5.33333333333333),\n",
       "  x*y*(-128.0*y**2 + 149.333333333333*y - 37.3333333333333) + x*(-42.6666666666667*y**3 + 74.6666666666667*y**2 - 37.3333333333333*y + 5.33333333333333)),\n",
       " 'grad_phi_9': (y*(10.6666666666667*y**3 - 16.0*y**2 + 7.33333333333333*y - 1.0),\n",
       "  x*y*(32.0*y**2 - 32.0*y + 7.33333333333333) + x*(10.6666666666667*y**3 - 16.0*y**2 + 7.33333333333333*y - 1.0))}"
      ]
     },
     "execution_count": 13,
     "metadata": {},
     "output_type": "execute_result"
    }
   ],
   "source": [
    "grad_q = {}\n",
    "for i, sf in enumerate(q_sf.values()):\n",
    "    grad_x = diff(sf, x)\n",
    "    grad_y = diff(sf, y)\n",
    "    grad_q[f\"grad_phi_{i}\"] = (grad_x, grad_y)\n",
    "grad_q"
   ]
  },
  {
   "cell_type": "markdown",
   "id": "f3ae5f3c",
   "metadata": {},
   "source": [
    "## Generate shape function module"
   ]
  },
  {
   "cell_type": "code",
   "execution_count": 14,
   "id": "2ca66410",
   "metadata": {},
   "outputs": [
    {
     "name": "stdout",
     "output_type": "stream",
     "text": [
      "def phi_0(x: float, y: float) -> float:\n",
      "\treturn 1.0*(1 - x)*(y - 1)*(1.33333333333333*y - 1.0)*(2.0*y - 1.0)*(4.0*y - 1.0)\n",
      "def phi_1(x: float, y: float) -> float:\n",
      "\treturn y*(1 - x)*(-42.6666666666667*y**3 + 96.0*y**2 - 69.3333333333333*y + 16.0)\n",
      "def phi_2(x: float, y: float) -> float:\n",
      "\treturn 4.0*y*(1 - x)*(y - 1)*(4.0*y - 3.0)*(4.0*y - 1.0)\n",
      "def phi_3(x: float, y: float) -> float:\n",
      "\treturn y*(1 - x)*(-42.6666666666667*y**3 + 74.6666666666667*y**2 - 37.3333333333333*y + 5.33333333333333)\n",
      "def phi_4(x: float, y: float) -> float:\n",
      "\treturn y*(1 - x)*(10.6666666666667*y**3 - 16.0*y**2 + 7.33333333333333*y - 1.0)\n",
      "def phi_5(x: float, y: float) -> float:\n",
      "\treturn 1.0*x*(y - 1)*(1.33333333333333*y - 1.0)*(2.0*y - 1.0)*(4.0*y - 1.0)\n",
      "def phi_6(x: float, y: float) -> float:\n",
      "\treturn x*y*(-42.6666666666667*y**3 + 96.0*y**2 - 69.3333333333333*y + 16.0)\n",
      "def phi_7(x: float, y: float) -> float:\n",
      "\treturn 4.0*x*y*(y - 1)*(4.0*y - 3.0)*(4.0*y - 1.0)\n",
      "def phi_8(x: float, y: float) -> float:\n",
      "\treturn x*y*(-42.6666666666667*y**3 + 74.6666666666667*y**2 - 37.3333333333333*y + 5.33333333333333)\n",
      "def phi_9(x: float, y: float) -> float:\n",
      "\treturn x*y*(10.6666666666667*y**3 - 16.0*y**2 + 7.33333333333333*y - 1.0)\n"
     ]
    }
   ],
   "source": [
    "for sf_name, sf in q_sf.items():\n",
    "    def_header = f\"def {sf_name}(x: float, y: float) -> float:\\n\"\n",
    "    body = f\"\\treturn {sf}\"\n",
    "    print(def_header + body)"
   ]
  },
  {
   "cell_type": "code",
   "execution_count": 15,
   "id": "b98f9266",
   "metadata": {},
   "outputs": [
    {
     "name": "stdout",
     "output_type": "stream",
     "text": [
      "def grad_phi_0(x: float, y: float) -> npt.NDArray[np.float64]:\n",
      "\tphi_dx = -1.0*(y - 1)*(1.33333333333333*y - 1.0)*(2.0*y - 1.0)*(4.0*y - 1.0)\n",
      "\tphi_dy = 4.0*(1 - x)*(y - 1)*(1.33333333333333*y - 1.0)*(2.0*y - 1.0) + 2.0*(1 - x)*(y - 1)*(1.33333333333333*y - 1.0)*(4.0*y - 1.0) + 1.33333333333333*(1 - x)*(y - 1)*(2.0*y - 1.0)*(4.0*y - 1.0) + 1.0*(1 - x)*(1.33333333333333*y - 1.0)*(2.0*y - 1.0)*(4.0*y - 1.0)\n",
      "\treturn np.array([phi_dx, phi_dy])\n",
      "def grad_phi_1(x: float, y: float) -> npt.NDArray[np.float64]:\n",
      "\tphi_dx = -y*(-42.6666666666667*y**3 + 96.0*y**2 - 69.3333333333333*y + 16.0)\n",
      "\tphi_dy = y*(1 - x)*(-128.0*y**2 + 192.0*y - 69.3333333333333) + (1 - x)*(-42.6666666666667*y**3 + 96.0*y**2 - 69.3333333333333*y + 16.0)\n",
      "\treturn np.array([phi_dx, phi_dy])\n",
      "def grad_phi_2(x: float, y: float) -> npt.NDArray[np.float64]:\n",
      "\tphi_dx = -4.0*y*(y - 1)*(4.0*y - 3.0)*(4.0*y - 1.0)\n",
      "\tphi_dy = 16.0*y*(1 - x)*(y - 1)*(4.0*y - 3.0) + 16.0*y*(1 - x)*(y - 1)*(4.0*y - 1.0) + 4.0*y*(1 - x)*(4.0*y - 3.0)*(4.0*y - 1.0) + 4.0*(1 - x)*(y - 1)*(4.0*y - 3.0)*(4.0*y - 1.0)\n",
      "\treturn np.array([phi_dx, phi_dy])\n",
      "def grad_phi_3(x: float, y: float) -> npt.NDArray[np.float64]:\n",
      "\tphi_dx = -y*(-42.6666666666667*y**3 + 74.6666666666667*y**2 - 37.3333333333333*y + 5.33333333333333)\n",
      "\tphi_dy = y*(1 - x)*(-128.0*y**2 + 149.333333333333*y - 37.3333333333333) + (1 - x)*(-42.6666666666667*y**3 + 74.6666666666667*y**2 - 37.3333333333333*y + 5.33333333333333)\n",
      "\treturn np.array([phi_dx, phi_dy])\n",
      "def grad_phi_4(x: float, y: float) -> npt.NDArray[np.float64]:\n",
      "\tphi_dx = -y*(10.6666666666667*y**3 - 16.0*y**2 + 7.33333333333333*y - 1.0)\n",
      "\tphi_dy = y*(1 - x)*(32.0*y**2 - 32.0*y + 7.33333333333333) + (1 - x)*(10.6666666666667*y**3 - 16.0*y**2 + 7.33333333333333*y - 1.0)\n",
      "\treturn np.array([phi_dx, phi_dy])\n",
      "def grad_phi_5(x: float, y: float) -> npt.NDArray[np.float64]:\n",
      "\tphi_dx = 1.0*(y - 1)*(1.33333333333333*y - 1.0)*(2.0*y - 1.0)*(4.0*y - 1.0)\n",
      "\tphi_dy = 4.0*x*(y - 1)*(1.33333333333333*y - 1.0)*(2.0*y - 1.0) + 2.0*x*(y - 1)*(1.33333333333333*y - 1.0)*(4.0*y - 1.0) + 1.33333333333333*x*(y - 1)*(2.0*y - 1.0)*(4.0*y - 1.0) + 1.0*x*(1.33333333333333*y - 1.0)*(2.0*y - 1.0)*(4.0*y - 1.0)\n",
      "\treturn np.array([phi_dx, phi_dy])\n",
      "def grad_phi_6(x: float, y: float) -> npt.NDArray[np.float64]:\n",
      "\tphi_dx = y*(-42.6666666666667*y**3 + 96.0*y**2 - 69.3333333333333*y + 16.0)\n",
      "\tphi_dy = x*y*(-128.0*y**2 + 192.0*y - 69.3333333333333) + x*(-42.6666666666667*y**3 + 96.0*y**2 - 69.3333333333333*y + 16.0)\n",
      "\treturn np.array([phi_dx, phi_dy])\n",
      "def grad_phi_7(x: float, y: float) -> npt.NDArray[np.float64]:\n",
      "\tphi_dx = 4.0*y*(y - 1)*(4.0*y - 3.0)*(4.0*y - 1.0)\n",
      "\tphi_dy = 16.0*x*y*(y - 1)*(4.0*y - 3.0) + 16.0*x*y*(y - 1)*(4.0*y - 1.0) + 4.0*x*y*(4.0*y - 3.0)*(4.0*y - 1.0) + 4.0*x*(y - 1)*(4.0*y - 3.0)*(4.0*y - 1.0)\n",
      "\treturn np.array([phi_dx, phi_dy])\n",
      "def grad_phi_8(x: float, y: float) -> npt.NDArray[np.float64]:\n",
      "\tphi_dx = y*(-42.6666666666667*y**3 + 74.6666666666667*y**2 - 37.3333333333333*y + 5.33333333333333)\n",
      "\tphi_dy = x*y*(-128.0*y**2 + 149.333333333333*y - 37.3333333333333) + x*(-42.6666666666667*y**3 + 74.6666666666667*y**2 - 37.3333333333333*y + 5.33333333333333)\n",
      "\treturn np.array([phi_dx, phi_dy])\n",
      "def grad_phi_9(x: float, y: float) -> npt.NDArray[np.float64]:\n",
      "\tphi_dx = y*(10.6666666666667*y**3 - 16.0*y**2 + 7.33333333333333*y - 1.0)\n",
      "\tphi_dy = x*y*(32.0*y**2 - 32.0*y + 7.33333333333333) + x*(10.6666666666667*y**3 - 16.0*y**2 + 7.33333333333333*y - 1.0)\n",
      "\treturn np.array([phi_dx, phi_dy])\n"
     ]
    }
   ],
   "source": [
    "for sf_name, sf in grad_q.items():\n",
    "    def_header = f\"def {sf_name}(x: float, y: float) -> npt.NDArray[np.float64]:\\n\"\n",
    "    body = f\"\\tphi_dx = {sf[0]}\\n\\tphi_dy = {sf[1]}\\n\"\n",
    "    return_str = f\"\\treturn np.array([phi_dx, phi_dy])\"\n",
    "    print(def_header + body + return_str)"
   ]
  }
 ],
 "metadata": {
  "kernelspec": {
   "display_name": "Python 3 (ipykernel)",
   "language": "python",
   "name": "python3"
  },
  "language_info": {
   "codemirror_mode": {
    "name": "ipython",
    "version": 3
   },
   "file_extension": ".py",
   "mimetype": "text/x-python",
   "name": "python",
   "nbconvert_exporter": "python",
   "pygments_lexer": "ipython3",
   "version": "3.11.4"
  }
 },
 "nbformat": 4,
 "nbformat_minor": 5
}
