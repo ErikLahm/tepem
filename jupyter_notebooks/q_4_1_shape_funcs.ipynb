{
 "cells": [
  {
   "cell_type": "code",
   "execution_count": 1,
   "id": "9d56ec48",
   "metadata": {},
   "outputs": [],
   "source": [
    "import sys\n",
    "sys.path.append('/Users/erikweilandt/Library/Caches/pypoetry/virtualenvs/tepem-FeojsIC2-py3.11/lib/python3.11/site-packages')"
   ]
  },
  {
   "cell_type": "code",
   "execution_count": 2,
   "id": "ebda591a",
   "metadata": {},
   "outputs": [],
   "source": [
    "from sympy import symbols, simplify, prod, plot, diff\n",
    "import numpy as np"
   ]
  },
  {
   "cell_type": "code",
   "execution_count": 3,
   "id": "4836fb65",
   "metadata": {},
   "outputs": [],
   "source": [
    "def LagrangPoly(y,order,i,yi=None):\n",
    "    if yi==None:\n",
    "        yi=symbols('y:%d'%(order+1))\n",
    "    index = list(range(order+1))\n",
    "    index.pop(i)\n",
    "    return prod([(y-yi[j])/(yi[i]-yi[j]) for j in index])"
   ]
  },
  {
   "cell_type": "markdown",
   "id": "0ebd51b7",
   "metadata": {},
   "source": [
    "reference: https://www.longqi.cf/python/2014/03/24/implement-of-lagrange-polynomial-in-sympy/"
   ]
  },
  {
   "cell_type": "code",
   "execution_count": 4,
   "id": "628def0e",
   "metadata": {},
   "outputs": [],
   "source": [
    "test_order = 2\n",
    "test_nodes = np.linspace(0,1, test_order+1)"
   ]
  },
  {
   "cell_type": "code",
   "execution_count": 5,
   "id": "567ad0fd",
   "metadata": {},
   "outputs": [
    {
     "data": {
      "text/latex": [
       "$\\displaystyle \\frac{\\left(y - y_{1}\\right) \\left(y - y_{2}\\right)}{\\left(y_{0} - y_{1}\\right) \\left(y_{0} - y_{2}\\right)}$"
      ],
      "text/plain": [
       "(y - y1)*(y - y2)/((y0 - y1)*(y0 - y2))"
      ]
     },
     "execution_count": 5,
     "metadata": {},
     "output_type": "execute_result"
    }
   ],
   "source": [
    "x, y=symbols('x y')\n",
    "LagrangPoly(y,test_order,0)"
   ]
  },
  {
   "cell_type": "markdown",
   "id": "51843f5c",
   "metadata": {},
   "source": [
    "## Define 1-D $\\mathbb{P}_d$ shape functions in both directions"
   ]
  },
  {
   "cell_type": "code",
   "execution_count": 6,
   "id": "4bdfc9b8",
   "metadata": {},
   "outputs": [],
   "source": [
    "order_x = 1\n",
    "order_y = 4"
   ]
  },
  {
   "cell_type": "code",
   "execution_count": 7,
   "id": "244cd6d2",
   "metadata": {},
   "outputs": [],
   "source": [
    "nodes_x = np.linspace(0,1, order_x+1)\n",
    "nodes_y = np.linspace(0,1, order_y+1)"
   ]
  },
  {
   "cell_type": "code",
   "execution_count": 8,
   "id": "a8ffab79",
   "metadata": {},
   "outputs": [
    {
     "data": {
      "text/plain": [
       "({'psi_0': 1.0 - 1.0*x, 'psi_1': 1.0*x},\n",
       " {'xi_0': 1.0*(y - 1)*(1.33333333333333*y - 1.0)*(2.0*y - 1.0)*(4.0*y - 1.0),\n",
       "  'xi_1': y*(-42.6666666666667*y**3 + 96.0*y**2 - 69.3333333333333*y + 16.0),\n",
       "  'xi_2': 4.0*y*(y - 1)*(4.0*y - 3.0)*(4.0*y - 1.0),\n",
       "  'xi_3': y*(-42.6666666666667*y**3 + 74.6666666666667*y**2 - 37.3333333333333*y + 5.33333333333333),\n",
       "  'xi_4': y*(10.6666666666667*y**3 - 16.0*y**2 + 7.33333333333333*y - 1.0)})"
      ]
     },
     "execution_count": 8,
     "metadata": {},
     "output_type": "execute_result"
    }
   ],
   "source": [
    "pols_x = {}\n",
    "for i in range(order_x+1):\n",
    "    pols_x[f\"psi_{i}\"] = simplify(LagrangPoly(x,order_x,i,list(nodes_x)))\n",
    "pols_y = {}\n",
    "for i in range(order_y+1):\n",
    "    pols_y[f\"xi_{i}\"] = simplify(LagrangPoly(y,order_y,i,list(nodes_y)))\n",
    "pols_x, pols_y"
   ]
  },
  {
   "cell_type": "code",
   "execution_count": 9,
   "id": "48605ade",
   "metadata": {},
   "outputs": [],
   "source": [
    "#for pol in pols_x.values():\n",
    "#    plot(pol, (x,0,1))"
   ]
  },
  {
   "cell_type": "markdown",
   "id": "b8b9f905",
   "metadata": {},
   "source": [
    "# $\\mathbb{Q}_{x,y}$ shape functions"
   ]
  },
  {
   "cell_type": "markdown",
   "id": "ca1bea61",
   "metadata": {},
   "source": [
    "Below we are numerating such that we follow the numbering as indicated in the notes. This means we first number all shape functions for x=0 and at last all shape functions with x=1."
   ]
  },
  {
   "cell_type": "code",
   "execution_count": 10,
   "id": "e9bc5675",
   "metadata": {
    "scrolled": true
   },
   "outputs": [
    {
     "data": {
      "text/plain": [
       "{'phi_0': 1.0*(1.0 - 1.0*x)*(y - 1)*(1.33333333333333*y - 1.0)*(2.0*y - 1.0)*(4.0*y - 1.0),\n",
       " 'phi_1': y*(1.0 - 1.0*x)*(-42.6666666666667*y**3 + 96.0*y**2 - 69.3333333333333*y + 16.0),\n",
       " 'phi_2': 4.0*y*(1.0 - 1.0*x)*(y - 1)*(4.0*y - 3.0)*(4.0*y - 1.0),\n",
       " 'phi_3': y*(1.0 - 1.0*x)*(-42.6666666666667*y**3 + 74.6666666666667*y**2 - 37.3333333333333*y + 5.33333333333333),\n",
       " 'phi_4': y*(1.0 - 1.0*x)*(10.6666666666667*y**3 - 16.0*y**2 + 7.33333333333333*y - 1.0),\n",
       " 'phi_5': 1.0*x*(y - 1)*(1.33333333333333*y - 1.0)*(2.0*y - 1.0)*(4.0*y - 1.0),\n",
       " 'phi_6': 1.0*x*y*(-42.6666666666667*y**3 + 96.0*y**2 - 69.3333333333333*y + 16.0),\n",
       " 'phi_7': 4.0*x*y*(y - 1)*(4.0*y - 3.0)*(4.0*y - 1.0),\n",
       " 'phi_8': 1.0*x*y*(-42.6666666666667*y**3 + 74.6666666666667*y**2 - 37.3333333333333*y + 5.33333333333333),\n",
       " 'phi_9': 1.0*x*y*(10.6666666666667*y**3 - 16.0*y**2 + 7.33333333333333*y - 1.0)}"
      ]
     },
     "execution_count": 10,
     "metadata": {},
     "output_type": "execute_result"
    }
   ],
   "source": [
    "q_sf = {}\n",
    "name_counter = 0\n",
    "for x_sf in pols_x.values():\n",
    "    for y_sf in pols_y.values():\n",
    "        q_sf[f\"phi_{name_counter}\"] = x_sf * y_sf\n",
    "        name_counter += 1\n",
    "q_sf"
   ]
  },
  {
   "cell_type": "code",
   "execution_count": 11,
   "id": "78970a79",
   "metadata": {},
   "outputs": [
    {
     "data": {
      "text/plain": [
       "{'phi_0': y*(1.0 - 1.0*x)*(-42.6666666666667*y**3 + 96.0*y**2 - 69.3333333333333*y + 16.0),\n",
       " 'phi_1': 4.0*y*(1.0 - 1.0*x)*(y - 1)*(4.0*y - 3.0)*(4.0*y - 1.0),\n",
       " 'phi_2': y*(1.0 - 1.0*x)*(-42.6666666666667*y**3 + 74.6666666666667*y**2 - 37.3333333333333*y + 5.33333333333333),\n",
       " 'phi_3': 1.0*x*y*(-42.6666666666667*y**3 + 96.0*y**2 - 69.3333333333333*y + 16.0),\n",
       " 'phi_4': 4.0*x*y*(y - 1)*(4.0*y - 3.0)*(4.0*y - 1.0),\n",
       " 'phi_5': 1.0*x*y*(-42.6666666666667*y**3 + 74.6666666666667*y**2 - 37.3333333333333*y + 5.33333333333333)}"
      ]
     },
     "execution_count": 11,
     "metadata": {},
     "output_type": "execute_result"
    }
   ],
   "source": [
    "q_sf_velo = {}\n",
    "name_counter = 0\n",
    "for i, x_sf in enumerate(pols_x.values()):\n",
    "    for j, y_sf in enumerate(pols_y.values()):\n",
    "        if j%order_y != 0:\n",
    "            q_sf_velo[f\"phi_{name_counter}\"] = x_sf * y_sf\n",
    "            name_counter += 1\n",
    "q_sf_velo"
   ]
  },
  {
   "cell_type": "markdown",
   "id": "c720123c",
   "metadata": {},
   "source": [
    "### Testing numeration"
   ]
  },
  {
   "cell_type": "code",
   "execution_count": 12,
   "id": "8ab35174",
   "metadata": {},
   "outputs": [],
   "source": [
    "# check if the correct nodes are == 1\n",
    "for i in range(order_y-1):\n",
    "    assert q_sf_velo[f\"phi_{i}\"].subs([(x,0), (y,nodes_y[i+1])]) < 1+10e-10 and q_sf_velo[f\"phi_{i}\"].subs([(x,0), (y,nodes_y[i+1])]) > 1-10e-10, f\"Node {i} is wrong\""
   ]
  },
  {
   "cell_type": "code",
   "execution_count": 13,
   "id": "5e4e912a",
   "metadata": {},
   "outputs": [],
   "source": [
    "grad_q = {}\n",
    "for i, sf in enumerate(q_sf.values()):\n",
    "    grad_x = diff(sf, x)\n",
    "    grad_y = diff(sf, y)\n",
    "    grad_q[f\"grad_phi_{i}\"] = (grad_x, grad_y)\n",
    "#grad_q"
   ]
  },
  {
   "cell_type": "code",
   "execution_count": 14,
   "id": "004442bd",
   "metadata": {},
   "outputs": [],
   "source": [
    "grad_q_velo = {}\n",
    "for i, sf in enumerate(q_sf_velo.values()):\n",
    "    grad_x = diff(sf, x)\n",
    "    grad_y = diff(sf, y)\n",
    "    grad_q_velo[f\"grad_phi_{i}\"] = (grad_x, grad_y)\n",
    "#grad_q_velo"
   ]
  },
  {
   "cell_type": "code",
   "execution_count": 15,
   "id": "98986251",
   "metadata": {},
   "outputs": [],
   "source": [
    "# Printing all shape functions\n",
    "for sf_name, sf in q_sf.items():\n",
    "    def_header = f\"def {sf_name}(x: float, y: float) -> float:\\n\"\n",
    "    body = f\"\\treturn {sf}\"\n",
    "    #print(def_header + body)"
   ]
  },
  {
   "cell_type": "code",
   "execution_count": 16,
   "id": "b75ed7f2",
   "metadata": {},
   "outputs": [
    {
     "name": "stdout",
     "output_type": "stream",
     "text": [
      "def phi_0(x: float, y: float) -> float:\n",
      "\treturn y*(1.0 - 1.0*x)*(-42.6666666666667*y**3 + 96.0*y**2 - 69.3333333333333*y + 16.0)\n",
      "def phi_1(x: float, y: float) -> float:\n",
      "\treturn 4.0*y*(1.0 - 1.0*x)*(y - 1)*(4.0*y - 3.0)*(4.0*y - 1.0)\n",
      "def phi_2(x: float, y: float) -> float:\n",
      "\treturn y*(1.0 - 1.0*x)*(-42.6666666666667*y**3 + 74.6666666666667*y**2 - 37.3333333333333*y + 5.33333333333333)\n",
      "def phi_3(x: float, y: float) -> float:\n",
      "\treturn 1.0*x*y*(-42.6666666666667*y**3 + 96.0*y**2 - 69.3333333333333*y + 16.0)\n",
      "def phi_4(x: float, y: float) -> float:\n",
      "\treturn 4.0*x*y*(y - 1)*(4.0*y - 3.0)*(4.0*y - 1.0)\n",
      "def phi_5(x: float, y: float) -> float:\n",
      "\treturn 1.0*x*y*(-42.6666666666667*y**3 + 74.6666666666667*y**2 - 37.3333333333333*y + 5.33333333333333)\n"
     ]
    }
   ],
   "source": [
    "# Printing only velocity shape functions: leaving out the boundary shape functions\n",
    "for sf_name, sf in q_sf_velo.items():\n",
    "    def_header = f\"def {sf_name}(x: float, y: float) -> float:\\n\"\n",
    "    body = f\"\\treturn {sf}\"\n",
    "    print(def_header + body)"
   ]
  },
  {
   "cell_type": "code",
   "execution_count": 17,
   "id": "56d3e35d",
   "metadata": {},
   "outputs": [],
   "source": [
    "# Printing all gradient shape functions\n",
    "for sf_name, sf in grad_q.items():\n",
    "    def_header = f\"def {sf_name}(x: float, y: float) -> npt.NDArray[np.float64]:\\n\"\n",
    "    body = f\"\\tphi_dx = {sf[0]}\\n\\tphi_dy = {sf[1]}\\n\"\n",
    "    return_str = f\"\\treturn np.array([phi_dx, phi_dy])\"\n",
    "    #print(def_header + body + return_str)"
   ]
  },
  {
   "cell_type": "code",
   "execution_count": 18,
   "id": "69d2553f",
   "metadata": {},
   "outputs": [
    {
     "name": "stdout",
     "output_type": "stream",
     "text": [
      "def grad_phi_0(x: float, y: float) -> npt.NDArray[np.float64]:\n",
      "\tphi_dx = -1.0*y*(-42.6666666666667*y**3 + 96.0*y**2 - 69.3333333333333*y + 16.0)\n",
      "\tphi_dy = y*(1.0 - 1.0*x)*(-128.0*y**2 + 192.0*y - 69.3333333333333) + (1.0 - 1.0*x)*(-42.6666666666667*y**3 + 96.0*y**2 - 69.3333333333333*y + 16.0)\n",
      "\treturn np.array([phi_dx, phi_dy])\n",
      "def grad_phi_1(x: float, y: float) -> npt.NDArray[np.float64]:\n",
      "\tphi_dx = -4.0*y*(y - 1)*(4.0*y - 3.0)*(4.0*y - 1.0)\n",
      "\tphi_dy = 16.0*y*(1.0 - 1.0*x)*(y - 1)*(4.0*y - 3.0) + 16.0*y*(1.0 - 1.0*x)*(y - 1)*(4.0*y - 1.0) + 4.0*y*(1.0 - 1.0*x)*(4.0*y - 3.0)*(4.0*y - 1.0) + 4.0*(1.0 - 1.0*x)*(y - 1)*(4.0*y - 3.0)*(4.0*y - 1.0)\n",
      "\treturn np.array([phi_dx, phi_dy])\n",
      "def grad_phi_2(x: float, y: float) -> npt.NDArray[np.float64]:\n",
      "\tphi_dx = -1.0*y*(-42.6666666666667*y**3 + 74.6666666666667*y**2 - 37.3333333333333*y + 5.33333333333333)\n",
      "\tphi_dy = y*(1.0 - 1.0*x)*(-128.0*y**2 + 149.333333333333*y - 37.3333333333333) + (1.0 - 1.0*x)*(-42.6666666666667*y**3 + 74.6666666666667*y**2 - 37.3333333333333*y + 5.33333333333333)\n",
      "\treturn np.array([phi_dx, phi_dy])\n",
      "def grad_phi_3(x: float, y: float) -> npt.NDArray[np.float64]:\n",
      "\tphi_dx = 1.0*y*(-42.6666666666667*y**3 + 96.0*y**2 - 69.3333333333333*y + 16.0)\n",
      "\tphi_dy = 1.0*x*y*(-128.0*y**2 + 192.0*y - 69.3333333333333) + 1.0*x*(-42.6666666666667*y**3 + 96.0*y**2 - 69.3333333333333*y + 16.0)\n",
      "\treturn np.array([phi_dx, phi_dy])\n",
      "def grad_phi_4(x: float, y: float) -> npt.NDArray[np.float64]:\n",
      "\tphi_dx = 4.0*y*(y - 1)*(4.0*y - 3.0)*(4.0*y - 1.0)\n",
      "\tphi_dy = 16.0*x*y*(y - 1)*(4.0*y - 3.0) + 16.0*x*y*(y - 1)*(4.0*y - 1.0) + 4.0*x*y*(4.0*y - 3.0)*(4.0*y - 1.0) + 4.0*x*(y - 1)*(4.0*y - 3.0)*(4.0*y - 1.0)\n",
      "\treturn np.array([phi_dx, phi_dy])\n",
      "def grad_phi_5(x: float, y: float) -> npt.NDArray[np.float64]:\n",
      "\tphi_dx = 1.0*y*(-42.6666666666667*y**3 + 74.6666666666667*y**2 - 37.3333333333333*y + 5.33333333333333)\n",
      "\tphi_dy = 1.0*x*y*(-128.0*y**2 + 149.333333333333*y - 37.3333333333333) + 1.0*x*(-42.6666666666667*y**3 + 74.6666666666667*y**2 - 37.3333333333333*y + 5.33333333333333)\n",
      "\treturn np.array([phi_dx, phi_dy])\n"
     ]
    }
   ],
   "source": [
    "# Print velocity dof: leaving out the gradiants of shape function on the boundary\n",
    "for sf_name, sf in grad_q_velo.items():\n",
    "    def_header = f\"def {sf_name}(x: float, y: float) -> npt.NDArray[np.float64]:\\n\"\n",
    "    body = f\"\\tphi_dx = {sf[0]}\\n\\tphi_dy = {sf[1]}\\n\"\n",
    "    return_str = f\"\\treturn np.array([phi_dx, phi_dy])\"\n",
    "    print(def_header + body + return_str)"
   ]
  }
 ],
 "metadata": {
  "kernelspec": {
   "display_name": "Python 3 (ipykernel)",
   "language": "python",
   "name": "python3"
  },
  "language_info": {
   "codemirror_mode": {
    "name": "ipython",
    "version": 3
   },
   "file_extension": ".py",
   "mimetype": "text/x-python",
   "name": "python",
   "nbconvert_exporter": "python",
   "pygments_lexer": "ipython3",
   "version": "3.11.4"
  }
 },
 "nbformat": 4,
 "nbformat_minor": 5
}
